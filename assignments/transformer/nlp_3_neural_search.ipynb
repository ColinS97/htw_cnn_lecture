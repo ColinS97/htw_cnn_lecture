{
  "nbformat": 4,
  "nbformat_minor": 0,
  "metadata": {
    "colab": {
      "name": "nlp 3 - neural search.ipynb",
      "provenance": [],
      "collapsed_sections": [],
      "include_colab_link": true
    },
    "kernelspec": {
      "name": "python3",
      "display_name": "Python 3"
    },
    "language_info": {
      "name": "python"
    },
    "accelerator": "GPU",
    "widgets": {
      "application/vnd.jupyter.widget-state+json": {
        "30dc686cb4534fb492fd0e839bfa0af5": {
          "model_module": "@jupyter-widgets/controls",
          "model_name": "HBoxModel",
          "model_module_version": "1.5.0",
          "state": {
            "_dom_classes": [],
            "_model_module": "@jupyter-widgets/controls",
            "_model_module_version": "1.5.0",
            "_model_name": "HBoxModel",
            "_view_count": null,
            "_view_module": "@jupyter-widgets/controls",
            "_view_module_version": "1.5.0",
            "_view_name": "HBoxView",
            "box_style": "",
            "children": [
              "IPY_MODEL_4da470d4dee84a78be277a9e5936e795",
              "IPY_MODEL_4c8718dd92b74f9280d90747fba30c0c",
              "IPY_MODEL_6f4fc0b062dd4e018769570130a23d99"
            ],
            "layout": "IPY_MODEL_b4de9cd33b164316973a367c8c499906"
          }
        },
        "4da470d4dee84a78be277a9e5936e795": {
          "model_module": "@jupyter-widgets/controls",
          "model_name": "HTMLModel",
          "model_module_version": "1.5.0",
          "state": {
            "_dom_classes": [],
            "_model_module": "@jupyter-widgets/controls",
            "_model_module_version": "1.5.0",
            "_model_name": "HTMLModel",
            "_view_count": null,
            "_view_module": "@jupyter-widgets/controls",
            "_view_module_version": "1.5.0",
            "_view_name": "HTMLView",
            "description": "",
            "description_tooltip": null,
            "layout": "IPY_MODEL_47726a95814543828a357d3489beee6d",
            "placeholder": "​",
            "style": "IPY_MODEL_b5c6677a2db041f382a0de3315ea621d",
            "value": "Downloading: 100%"
          }
        },
        "4c8718dd92b74f9280d90747fba30c0c": {
          "model_module": "@jupyter-widgets/controls",
          "model_name": "FloatProgressModel",
          "model_module_version": "1.5.0",
          "state": {
            "_dom_classes": [],
            "_model_module": "@jupyter-widgets/controls",
            "_model_module_version": "1.5.0",
            "_model_name": "FloatProgressModel",
            "_view_count": null,
            "_view_module": "@jupyter-widgets/controls",
            "_view_module_version": "1.5.0",
            "_view_name": "ProgressView",
            "bar_style": "success",
            "description": "",
            "description_tooltip": null,
            "layout": "IPY_MODEL_55d0b440215e4924b49a584ac34f3cd9",
            "max": 480,
            "min": 0,
            "orientation": "horizontal",
            "style": "IPY_MODEL_3ec558fa13ab4aa1b416f346c93d3fcb",
            "value": 480
          }
        },
        "6f4fc0b062dd4e018769570130a23d99": {
          "model_module": "@jupyter-widgets/controls",
          "model_name": "HTMLModel",
          "model_module_version": "1.5.0",
          "state": {
            "_dom_classes": [],
            "_model_module": "@jupyter-widgets/controls",
            "_model_module_version": "1.5.0",
            "_model_name": "HTMLModel",
            "_view_count": null,
            "_view_module": "@jupyter-widgets/controls",
            "_view_module_version": "1.5.0",
            "_view_name": "HTMLView",
            "description": "",
            "description_tooltip": null,
            "layout": "IPY_MODEL_dc11b9e0fa4a4119a06911504f75c26e",
            "placeholder": "​",
            "style": "IPY_MODEL_37f9d63e611c41958f2e6ddf5c0441ba",
            "value": " 480/480 [00:00&lt;00:00, 14.4kB/s]"
          }
        },
        "b4de9cd33b164316973a367c8c499906": {
          "model_module": "@jupyter-widgets/base",
          "model_name": "LayoutModel",
          "model_module_version": "1.2.0",
          "state": {
            "_model_module": "@jupyter-widgets/base",
            "_model_module_version": "1.2.0",
            "_model_name": "LayoutModel",
            "_view_count": null,
            "_view_module": "@jupyter-widgets/base",
            "_view_module_version": "1.2.0",
            "_view_name": "LayoutView",
            "align_content": null,
            "align_items": null,
            "align_self": null,
            "border": null,
            "bottom": null,
            "display": null,
            "flex": null,
            "flex_flow": null,
            "grid_area": null,
            "grid_auto_columns": null,
            "grid_auto_flow": null,
            "grid_auto_rows": null,
            "grid_column": null,
            "grid_gap": null,
            "grid_row": null,
            "grid_template_areas": null,
            "grid_template_columns": null,
            "grid_template_rows": null,
            "height": null,
            "justify_content": null,
            "justify_items": null,
            "left": null,
            "margin": null,
            "max_height": null,
            "max_width": null,
            "min_height": null,
            "min_width": null,
            "object_fit": null,
            "object_position": null,
            "order": null,
            "overflow": null,
            "overflow_x": null,
            "overflow_y": null,
            "padding": null,
            "right": null,
            "top": null,
            "visibility": null,
            "width": null
          }
        },
        "47726a95814543828a357d3489beee6d": {
          "model_module": "@jupyter-widgets/base",
          "model_name": "LayoutModel",
          "model_module_version": "1.2.0",
          "state": {
            "_model_module": "@jupyter-widgets/base",
            "_model_module_version": "1.2.0",
            "_model_name": "LayoutModel",
            "_view_count": null,
            "_view_module": "@jupyter-widgets/base",
            "_view_module_version": "1.2.0",
            "_view_name": "LayoutView",
            "align_content": null,
            "align_items": null,
            "align_self": null,
            "border": null,
            "bottom": null,
            "display": null,
            "flex": null,
            "flex_flow": null,
            "grid_area": null,
            "grid_auto_columns": null,
            "grid_auto_flow": null,
            "grid_auto_rows": null,
            "grid_column": null,
            "grid_gap": null,
            "grid_row": null,
            "grid_template_areas": null,
            "grid_template_columns": null,
            "grid_template_rows": null,
            "height": null,
            "justify_content": null,
            "justify_items": null,
            "left": null,
            "margin": null,
            "max_height": null,
            "max_width": null,
            "min_height": null,
            "min_width": null,
            "object_fit": null,
            "object_position": null,
            "order": null,
            "overflow": null,
            "overflow_x": null,
            "overflow_y": null,
            "padding": null,
            "right": null,
            "top": null,
            "visibility": null,
            "width": null
          }
        },
        "b5c6677a2db041f382a0de3315ea621d": {
          "model_module": "@jupyter-widgets/controls",
          "model_name": "DescriptionStyleModel",
          "model_module_version": "1.5.0",
          "state": {
            "_model_module": "@jupyter-widgets/controls",
            "_model_module_version": "1.5.0",
            "_model_name": "DescriptionStyleModel",
            "_view_count": null,
            "_view_module": "@jupyter-widgets/base",
            "_view_module_version": "1.2.0",
            "_view_name": "StyleView",
            "description_width": ""
          }
        },
        "55d0b440215e4924b49a584ac34f3cd9": {
          "model_module": "@jupyter-widgets/base",
          "model_name": "LayoutModel",
          "model_module_version": "1.2.0",
          "state": {
            "_model_module": "@jupyter-widgets/base",
            "_model_module_version": "1.2.0",
            "_model_name": "LayoutModel",
            "_view_count": null,
            "_view_module": "@jupyter-widgets/base",
            "_view_module_version": "1.2.0",
            "_view_name": "LayoutView",
            "align_content": null,
            "align_items": null,
            "align_self": null,
            "border": null,
            "bottom": null,
            "display": null,
            "flex": null,
            "flex_flow": null,
            "grid_area": null,
            "grid_auto_columns": null,
            "grid_auto_flow": null,
            "grid_auto_rows": null,
            "grid_column": null,
            "grid_gap": null,
            "grid_row": null,
            "grid_template_areas": null,
            "grid_template_columns": null,
            "grid_template_rows": null,
            "height": null,
            "justify_content": null,
            "justify_items": null,
            "left": null,
            "margin": null,
            "max_height": null,
            "max_width": null,
            "min_height": null,
            "min_width": null,
            "object_fit": null,
            "object_position": null,
            "order": null,
            "overflow": null,
            "overflow_x": null,
            "overflow_y": null,
            "padding": null,
            "right": null,
            "top": null,
            "visibility": null,
            "width": null
          }
        },
        "3ec558fa13ab4aa1b416f346c93d3fcb": {
          "model_module": "@jupyter-widgets/controls",
          "model_name": "ProgressStyleModel",
          "model_module_version": "1.5.0",
          "state": {
            "_model_module": "@jupyter-widgets/controls",
            "_model_module_version": "1.5.0",
            "_model_name": "ProgressStyleModel",
            "_view_count": null,
            "_view_module": "@jupyter-widgets/base",
            "_view_module_version": "1.2.0",
            "_view_name": "StyleView",
            "bar_color": null,
            "description_width": ""
          }
        },
        "dc11b9e0fa4a4119a06911504f75c26e": {
          "model_module": "@jupyter-widgets/base",
          "model_name": "LayoutModel",
          "model_module_version": "1.2.0",
          "state": {
            "_model_module": "@jupyter-widgets/base",
            "_model_module_version": "1.2.0",
            "_model_name": "LayoutModel",
            "_view_count": null,
            "_view_module": "@jupyter-widgets/base",
            "_view_module_version": "1.2.0",
            "_view_name": "LayoutView",
            "align_content": null,
            "align_items": null,
            "align_self": null,
            "border": null,
            "bottom": null,
            "display": null,
            "flex": null,
            "flex_flow": null,
            "grid_area": null,
            "grid_auto_columns": null,
            "grid_auto_flow": null,
            "grid_auto_rows": null,
            "grid_column": null,
            "grid_gap": null,
            "grid_row": null,
            "grid_template_areas": null,
            "grid_template_columns": null,
            "grid_template_rows": null,
            "height": null,
            "justify_content": null,
            "justify_items": null,
            "left": null,
            "margin": null,
            "max_height": null,
            "max_width": null,
            "min_height": null,
            "min_width": null,
            "object_fit": null,
            "object_position": null,
            "order": null,
            "overflow": null,
            "overflow_x": null,
            "overflow_y": null,
            "padding": null,
            "right": null,
            "top": null,
            "visibility": null,
            "width": null
          }
        },
        "37f9d63e611c41958f2e6ddf5c0441ba": {
          "model_module": "@jupyter-widgets/controls",
          "model_name": "DescriptionStyleModel",
          "model_module_version": "1.5.0",
          "state": {
            "_model_module": "@jupyter-widgets/controls",
            "_model_module_version": "1.5.0",
            "_model_name": "DescriptionStyleModel",
            "_view_count": null,
            "_view_module": "@jupyter-widgets/base",
            "_view_module_version": "1.2.0",
            "_view_name": "StyleView",
            "description_width": ""
          }
        },
        "f700627a43bb46eeae81cae0cda7901a": {
          "model_module": "@jupyter-widgets/controls",
          "model_name": "HBoxModel",
          "model_module_version": "1.5.0",
          "state": {
            "_dom_classes": [],
            "_model_module": "@jupyter-widgets/controls",
            "_model_module_version": "1.5.0",
            "_model_name": "HBoxModel",
            "_view_count": null,
            "_view_module": "@jupyter-widgets/controls",
            "_view_module_version": "1.5.0",
            "_view_name": "HBoxView",
            "box_style": "",
            "children": [
              "IPY_MODEL_928c297d1ed6486a92b488891204b33e",
              "IPY_MODEL_3858dd8dff7643848cc3e13d380257bc",
              "IPY_MODEL_a5d2c93d1a034216bf6033e181948522"
            ],
            "layout": "IPY_MODEL_5a6067845ee140a29e0ee332fd658f62"
          }
        },
        "928c297d1ed6486a92b488891204b33e": {
          "model_module": "@jupyter-widgets/controls",
          "model_name": "HTMLModel",
          "model_module_version": "1.5.0",
          "state": {
            "_dom_classes": [],
            "_model_module": "@jupyter-widgets/controls",
            "_model_module_version": "1.5.0",
            "_model_name": "HTMLModel",
            "_view_count": null,
            "_view_module": "@jupyter-widgets/controls",
            "_view_module_version": "1.5.0",
            "_view_name": "HTMLView",
            "description": "",
            "description_tooltip": null,
            "layout": "IPY_MODEL_4a47a8c6523149dab64cec4d70920abd",
            "placeholder": "​",
            "style": "IPY_MODEL_8ffb1802cf7f4c05bef0d19d292df40f",
            "value": "Downloading: 100%"
          }
        },
        "3858dd8dff7643848cc3e13d380257bc": {
          "model_module": "@jupyter-widgets/controls",
          "model_name": "FloatProgressModel",
          "model_module_version": "1.5.0",
          "state": {
            "_dom_classes": [],
            "_model_module": "@jupyter-widgets/controls",
            "_model_module_version": "1.5.0",
            "_model_name": "FloatProgressModel",
            "_view_count": null,
            "_view_module": "@jupyter-widgets/controls",
            "_view_module_version": "1.5.0",
            "_view_name": "ProgressView",
            "bar_style": "success",
            "description": "",
            "description_tooltip": null,
            "layout": "IPY_MODEL_bece6107a36d4253bc9a3c31f1fc014a",
            "max": 645,
            "min": 0,
            "orientation": "horizontal",
            "style": "IPY_MODEL_9c97dde481c2406faba4aa37f3450bcb",
            "value": 645
          }
        },
        "a5d2c93d1a034216bf6033e181948522": {
          "model_module": "@jupyter-widgets/controls",
          "model_name": "HTMLModel",
          "model_module_version": "1.5.0",
          "state": {
            "_dom_classes": [],
            "_model_module": "@jupyter-widgets/controls",
            "_model_module_version": "1.5.0",
            "_model_name": "HTMLModel",
            "_view_count": null,
            "_view_module": "@jupyter-widgets/controls",
            "_view_module_version": "1.5.0",
            "_view_name": "HTMLView",
            "description": "",
            "description_tooltip": null,
            "layout": "IPY_MODEL_c614166cf149439997407dc2421632bb",
            "placeholder": "​",
            "style": "IPY_MODEL_5aa4a77ec4184367bfacc6a9745f2284",
            "value": " 645/645 [00:00&lt;00:00, 12.9kB/s]"
          }
        },
        "5a6067845ee140a29e0ee332fd658f62": {
          "model_module": "@jupyter-widgets/base",
          "model_name": "LayoutModel",
          "model_module_version": "1.2.0",
          "state": {
            "_model_module": "@jupyter-widgets/base",
            "_model_module_version": "1.2.0",
            "_model_name": "LayoutModel",
            "_view_count": null,
            "_view_module": "@jupyter-widgets/base",
            "_view_module_version": "1.2.0",
            "_view_name": "LayoutView",
            "align_content": null,
            "align_items": null,
            "align_self": null,
            "border": null,
            "bottom": null,
            "display": null,
            "flex": null,
            "flex_flow": null,
            "grid_area": null,
            "grid_auto_columns": null,
            "grid_auto_flow": null,
            "grid_auto_rows": null,
            "grid_column": null,
            "grid_gap": null,
            "grid_row": null,
            "grid_template_areas": null,
            "grid_template_columns": null,
            "grid_template_rows": null,
            "height": null,
            "justify_content": null,
            "justify_items": null,
            "left": null,
            "margin": null,
            "max_height": null,
            "max_width": null,
            "min_height": null,
            "min_width": null,
            "object_fit": null,
            "object_position": null,
            "order": null,
            "overflow": null,
            "overflow_x": null,
            "overflow_y": null,
            "padding": null,
            "right": null,
            "top": null,
            "visibility": null,
            "width": null
          }
        },
        "4a47a8c6523149dab64cec4d70920abd": {
          "model_module": "@jupyter-widgets/base",
          "model_name": "LayoutModel",
          "model_module_version": "1.2.0",
          "state": {
            "_model_module": "@jupyter-widgets/base",
            "_model_module_version": "1.2.0",
            "_model_name": "LayoutModel",
            "_view_count": null,
            "_view_module": "@jupyter-widgets/base",
            "_view_module_version": "1.2.0",
            "_view_name": "LayoutView",
            "align_content": null,
            "align_items": null,
            "align_self": null,
            "border": null,
            "bottom": null,
            "display": null,
            "flex": null,
            "flex_flow": null,
            "grid_area": null,
            "grid_auto_columns": null,
            "grid_auto_flow": null,
            "grid_auto_rows": null,
            "grid_column": null,
            "grid_gap": null,
            "grid_row": null,
            "grid_template_areas": null,
            "grid_template_columns": null,
            "grid_template_rows": null,
            "height": null,
            "justify_content": null,
            "justify_items": null,
            "left": null,
            "margin": null,
            "max_height": null,
            "max_width": null,
            "min_height": null,
            "min_width": null,
            "object_fit": null,
            "object_position": null,
            "order": null,
            "overflow": null,
            "overflow_x": null,
            "overflow_y": null,
            "padding": null,
            "right": null,
            "top": null,
            "visibility": null,
            "width": null
          }
        },
        "8ffb1802cf7f4c05bef0d19d292df40f": {
          "model_module": "@jupyter-widgets/controls",
          "model_name": "DescriptionStyleModel",
          "model_module_version": "1.5.0",
          "state": {
            "_model_module": "@jupyter-widgets/controls",
            "_model_module_version": "1.5.0",
            "_model_name": "DescriptionStyleModel",
            "_view_count": null,
            "_view_module": "@jupyter-widgets/base",
            "_view_module_version": "1.2.0",
            "_view_name": "StyleView",
            "description_width": ""
          }
        },
        "bece6107a36d4253bc9a3c31f1fc014a": {
          "model_module": "@jupyter-widgets/base",
          "model_name": "LayoutModel",
          "model_module_version": "1.2.0",
          "state": {
            "_model_module": "@jupyter-widgets/base",
            "_model_module_version": "1.2.0",
            "_model_name": "LayoutModel",
            "_view_count": null,
            "_view_module": "@jupyter-widgets/base",
            "_view_module_version": "1.2.0",
            "_view_name": "LayoutView",
            "align_content": null,
            "align_items": null,
            "align_self": null,
            "border": null,
            "bottom": null,
            "display": null,
            "flex": null,
            "flex_flow": null,
            "grid_area": null,
            "grid_auto_columns": null,
            "grid_auto_flow": null,
            "grid_auto_rows": null,
            "grid_column": null,
            "grid_gap": null,
            "grid_row": null,
            "grid_template_areas": null,
            "grid_template_columns": null,
            "grid_template_rows": null,
            "height": null,
            "justify_content": null,
            "justify_items": null,
            "left": null,
            "margin": null,
            "max_height": null,
            "max_width": null,
            "min_height": null,
            "min_width": null,
            "object_fit": null,
            "object_position": null,
            "order": null,
            "overflow": null,
            "overflow_x": null,
            "overflow_y": null,
            "padding": null,
            "right": null,
            "top": null,
            "visibility": null,
            "width": null
          }
        },
        "9c97dde481c2406faba4aa37f3450bcb": {
          "model_module": "@jupyter-widgets/controls",
          "model_name": "ProgressStyleModel",
          "model_module_version": "1.5.0",
          "state": {
            "_model_module": "@jupyter-widgets/controls",
            "_model_module_version": "1.5.0",
            "_model_name": "ProgressStyleModel",
            "_view_count": null,
            "_view_module": "@jupyter-widgets/base",
            "_view_module_version": "1.2.0",
            "_view_name": "StyleView",
            "bar_color": null,
            "description_width": ""
          }
        },
        "c614166cf149439997407dc2421632bb": {
          "model_module": "@jupyter-widgets/base",
          "model_name": "LayoutModel",
          "model_module_version": "1.2.0",
          "state": {
            "_model_module": "@jupyter-widgets/base",
            "_model_module_version": "1.2.0",
            "_model_name": "LayoutModel",
            "_view_count": null,
            "_view_module": "@jupyter-widgets/base",
            "_view_module_version": "1.2.0",
            "_view_name": "LayoutView",
            "align_content": null,
            "align_items": null,
            "align_self": null,
            "border": null,
            "bottom": null,
            "display": null,
            "flex": null,
            "flex_flow": null,
            "grid_area": null,
            "grid_auto_columns": null,
            "grid_auto_flow": null,
            "grid_auto_rows": null,
            "grid_column": null,
            "grid_gap": null,
            "grid_row": null,
            "grid_template_areas": null,
            "grid_template_columns": null,
            "grid_template_rows": null,
            "height": null,
            "justify_content": null,
            "justify_items": null,
            "left": null,
            "margin": null,
            "max_height": null,
            "max_width": null,
            "min_height": null,
            "min_width": null,
            "object_fit": null,
            "object_position": null,
            "order": null,
            "overflow": null,
            "overflow_x": null,
            "overflow_y": null,
            "padding": null,
            "right": null,
            "top": null,
            "visibility": null,
            "width": null
          }
        },
        "5aa4a77ec4184367bfacc6a9745f2284": {
          "model_module": "@jupyter-widgets/controls",
          "model_name": "DescriptionStyleModel",
          "model_module_version": "1.5.0",
          "state": {
            "_model_module": "@jupyter-widgets/controls",
            "_model_module_version": "1.5.0",
            "_model_name": "DescriptionStyleModel",
            "_view_count": null,
            "_view_module": "@jupyter-widgets/base",
            "_view_module_version": "1.2.0",
            "_view_name": "StyleView",
            "description_width": ""
          }
        },
        "67a138df2b78496386c1c0ee21b75e5a": {
          "model_module": "@jupyter-widgets/controls",
          "model_name": "HBoxModel",
          "model_module_version": "1.5.0",
          "state": {
            "_dom_classes": [],
            "_model_module": "@jupyter-widgets/controls",
            "_model_module_version": "1.5.0",
            "_model_name": "HBoxModel",
            "_view_count": null,
            "_view_module": "@jupyter-widgets/controls",
            "_view_module_version": "1.5.0",
            "_view_name": "HBoxView",
            "box_style": "",
            "children": [
              "IPY_MODEL_1e49b7108e1b49a5b89d06b84ceac717",
              "IPY_MODEL_1179f759f79d4107ae835c23f0ff0937",
              "IPY_MODEL_999f4ec16d954cedbace844ed9d4a00c"
            ],
            "layout": "IPY_MODEL_bc12cb6f8e08478f8dd7e84cc43f52db"
          }
        },
        "1e49b7108e1b49a5b89d06b84ceac717": {
          "model_module": "@jupyter-widgets/controls",
          "model_name": "HTMLModel",
          "model_module_version": "1.5.0",
          "state": {
            "_dom_classes": [],
            "_model_module": "@jupyter-widgets/controls",
            "_model_module_version": "1.5.0",
            "_model_name": "HTMLModel",
            "_view_count": null,
            "_view_module": "@jupyter-widgets/controls",
            "_view_module_version": "1.5.0",
            "_view_name": "HTMLView",
            "description": "",
            "description_tooltip": null,
            "layout": "IPY_MODEL_163f1fda99d542918c375011c441f966",
            "placeholder": "​",
            "style": "IPY_MODEL_c68aee11b4e648df86da59ebccb6908c",
            "value": "Downloading: 100%"
          }
        },
        "1179f759f79d4107ae835c23f0ff0937": {
          "model_module": "@jupyter-widgets/controls",
          "model_name": "FloatProgressModel",
          "model_module_version": "1.5.0",
          "state": {
            "_dom_classes": [],
            "_model_module": "@jupyter-widgets/controls",
            "_model_module_version": "1.5.0",
            "_model_name": "FloatProgressModel",
            "_view_count": null,
            "_view_module": "@jupyter-widgets/controls",
            "_view_module_version": "1.5.0",
            "_view_name": "ProgressView",
            "bar_style": "success",
            "description": "",
            "description_tooltip": null,
            "layout": "IPY_MODEL_e73db5329f304b848c00089bd72f4720",
            "max": 9081518,
            "min": 0,
            "orientation": "horizontal",
            "style": "IPY_MODEL_fd9b56d17f01466880ee672a8e39c796",
            "value": 9081518
          }
        },
        "999f4ec16d954cedbace844ed9d4a00c": {
          "model_module": "@jupyter-widgets/controls",
          "model_name": "HTMLModel",
          "model_module_version": "1.5.0",
          "state": {
            "_dom_classes": [],
            "_model_module": "@jupyter-widgets/controls",
            "_model_module_version": "1.5.0",
            "_model_name": "HTMLModel",
            "_view_count": null,
            "_view_module": "@jupyter-widgets/controls",
            "_view_module_version": "1.5.0",
            "_view_name": "HTMLView",
            "description": "",
            "description_tooltip": null,
            "layout": "IPY_MODEL_11df0f68d1664ef29b53776d861a64c4",
            "placeholder": "​",
            "style": "IPY_MODEL_f297b1bff77f44faa4de7e7d40a48db8",
            "value": " 8.66M/8.66M [00:00&lt;00:00, 38.0MB/s]"
          }
        },
        "bc12cb6f8e08478f8dd7e84cc43f52db": {
          "model_module": "@jupyter-widgets/base",
          "model_name": "LayoutModel",
          "model_module_version": "1.2.0",
          "state": {
            "_model_module": "@jupyter-widgets/base",
            "_model_module_version": "1.2.0",
            "_model_name": "LayoutModel",
            "_view_count": null,
            "_view_module": "@jupyter-widgets/base",
            "_view_module_version": "1.2.0",
            "_view_name": "LayoutView",
            "align_content": null,
            "align_items": null,
            "align_self": null,
            "border": null,
            "bottom": null,
            "display": null,
            "flex": null,
            "flex_flow": null,
            "grid_area": null,
            "grid_auto_columns": null,
            "grid_auto_flow": null,
            "grid_auto_rows": null,
            "grid_column": null,
            "grid_gap": null,
            "grid_row": null,
            "grid_template_areas": null,
            "grid_template_columns": null,
            "grid_template_rows": null,
            "height": null,
            "justify_content": null,
            "justify_items": null,
            "left": null,
            "margin": null,
            "max_height": null,
            "max_width": null,
            "min_height": null,
            "min_width": null,
            "object_fit": null,
            "object_position": null,
            "order": null,
            "overflow": null,
            "overflow_x": null,
            "overflow_y": null,
            "padding": null,
            "right": null,
            "top": null,
            "visibility": null,
            "width": null
          }
        },
        "163f1fda99d542918c375011c441f966": {
          "model_module": "@jupyter-widgets/base",
          "model_name": "LayoutModel",
          "model_module_version": "1.2.0",
          "state": {
            "_model_module": "@jupyter-widgets/base",
            "_model_module_version": "1.2.0",
            "_model_name": "LayoutModel",
            "_view_count": null,
            "_view_module": "@jupyter-widgets/base",
            "_view_module_version": "1.2.0",
            "_view_name": "LayoutView",
            "align_content": null,
            "align_items": null,
            "align_self": null,
            "border": null,
            "bottom": null,
            "display": null,
            "flex": null,
            "flex_flow": null,
            "grid_area": null,
            "grid_auto_columns": null,
            "grid_auto_flow": null,
            "grid_auto_rows": null,
            "grid_column": null,
            "grid_gap": null,
            "grid_row": null,
            "grid_template_areas": null,
            "grid_template_columns": null,
            "grid_template_rows": null,
            "height": null,
            "justify_content": null,
            "justify_items": null,
            "left": null,
            "margin": null,
            "max_height": null,
            "max_width": null,
            "min_height": null,
            "min_width": null,
            "object_fit": null,
            "object_position": null,
            "order": null,
            "overflow": null,
            "overflow_x": null,
            "overflow_y": null,
            "padding": null,
            "right": null,
            "top": null,
            "visibility": null,
            "width": null
          }
        },
        "c68aee11b4e648df86da59ebccb6908c": {
          "model_module": "@jupyter-widgets/controls",
          "model_name": "DescriptionStyleModel",
          "model_module_version": "1.5.0",
          "state": {
            "_model_module": "@jupyter-widgets/controls",
            "_model_module_version": "1.5.0",
            "_model_name": "DescriptionStyleModel",
            "_view_count": null,
            "_view_module": "@jupyter-widgets/base",
            "_view_module_version": "1.2.0",
            "_view_name": "StyleView",
            "description_width": ""
          }
        },
        "e73db5329f304b848c00089bd72f4720": {
          "model_module": "@jupyter-widgets/base",
          "model_name": "LayoutModel",
          "model_module_version": "1.2.0",
          "state": {
            "_model_module": "@jupyter-widgets/base",
            "_model_module_version": "1.2.0",
            "_model_name": "LayoutModel",
            "_view_count": null,
            "_view_module": "@jupyter-widgets/base",
            "_view_module_version": "1.2.0",
            "_view_name": "LayoutView",
            "align_content": null,
            "align_items": null,
            "align_self": null,
            "border": null,
            "bottom": null,
            "display": null,
            "flex": null,
            "flex_flow": null,
            "grid_area": null,
            "grid_auto_columns": null,
            "grid_auto_flow": null,
            "grid_auto_rows": null,
            "grid_column": null,
            "grid_gap": null,
            "grid_row": null,
            "grid_template_areas": null,
            "grid_template_columns": null,
            "grid_template_rows": null,
            "height": null,
            "justify_content": null,
            "justify_items": null,
            "left": null,
            "margin": null,
            "max_height": null,
            "max_width": null,
            "min_height": null,
            "min_width": null,
            "object_fit": null,
            "object_position": null,
            "order": null,
            "overflow": null,
            "overflow_x": null,
            "overflow_y": null,
            "padding": null,
            "right": null,
            "top": null,
            "visibility": null,
            "width": null
          }
        },
        "fd9b56d17f01466880ee672a8e39c796": {
          "model_module": "@jupyter-widgets/controls",
          "model_name": "ProgressStyleModel",
          "model_module_version": "1.5.0",
          "state": {
            "_model_module": "@jupyter-widgets/controls",
            "_model_module_version": "1.5.0",
            "_model_name": "ProgressStyleModel",
            "_view_count": null,
            "_view_module": "@jupyter-widgets/base",
            "_view_module_version": "1.2.0",
            "_view_name": "StyleView",
            "bar_color": null,
            "description_width": ""
          }
        },
        "11df0f68d1664ef29b53776d861a64c4": {
          "model_module": "@jupyter-widgets/base",
          "model_name": "LayoutModel",
          "model_module_version": "1.2.0",
          "state": {
            "_model_module": "@jupyter-widgets/base",
            "_model_module_version": "1.2.0",
            "_model_name": "LayoutModel",
            "_view_count": null,
            "_view_module": "@jupyter-widgets/base",
            "_view_module_version": "1.2.0",
            "_view_name": "LayoutView",
            "align_content": null,
            "align_items": null,
            "align_self": null,
            "border": null,
            "bottom": null,
            "display": null,
            "flex": null,
            "flex_flow": null,
            "grid_area": null,
            "grid_auto_columns": null,
            "grid_auto_flow": null,
            "grid_auto_rows": null,
            "grid_column": null,
            "grid_gap": null,
            "grid_row": null,
            "grid_template_areas": null,
            "grid_template_columns": null,
            "grid_template_rows": null,
            "height": null,
            "justify_content": null,
            "justify_items": null,
            "left": null,
            "margin": null,
            "max_height": null,
            "max_width": null,
            "min_height": null,
            "min_width": null,
            "object_fit": null,
            "object_position": null,
            "order": null,
            "overflow": null,
            "overflow_x": null,
            "overflow_y": null,
            "padding": null,
            "right": null,
            "top": null,
            "visibility": null,
            "width": null
          }
        },
        "f297b1bff77f44faa4de7e7d40a48db8": {
          "model_module": "@jupyter-widgets/controls",
          "model_name": "DescriptionStyleModel",
          "model_module_version": "1.5.0",
          "state": {
            "_model_module": "@jupyter-widgets/controls",
            "_model_module_version": "1.5.0",
            "_model_name": "DescriptionStyleModel",
            "_view_count": null,
            "_view_module": "@jupyter-widgets/base",
            "_view_module_version": "1.2.0",
            "_view_name": "StyleView",
            "description_width": ""
          }
        },
        "9fc47afb59b24c03881d65279d1628f0": {
          "model_module": "@jupyter-widgets/controls",
          "model_name": "HBoxModel",
          "model_module_version": "1.5.0",
          "state": {
            "_dom_classes": [],
            "_model_module": "@jupyter-widgets/controls",
            "_model_module_version": "1.5.0",
            "_model_name": "HBoxModel",
            "_view_count": null,
            "_view_module": "@jupyter-widgets/controls",
            "_view_module_version": "1.5.0",
            "_view_name": "HBoxView",
            "box_style": "",
            "children": [
              "IPY_MODEL_bdf19c1a90b74f7aa45883156d650b16",
              "IPY_MODEL_6d51d82b63d9487fabf99033980d2738",
              "IPY_MODEL_37211562a250481987571ccd21984089"
            ],
            "layout": "IPY_MODEL_35fe70aac82a4addb317e8344c880a0c"
          }
        },
        "bdf19c1a90b74f7aa45883156d650b16": {
          "model_module": "@jupyter-widgets/controls",
          "model_name": "HTMLModel",
          "model_module_version": "1.5.0",
          "state": {
            "_dom_classes": [],
            "_model_module": "@jupyter-widgets/controls",
            "_model_module_version": "1.5.0",
            "_model_name": "HTMLModel",
            "_view_count": null,
            "_view_module": "@jupyter-widgets/controls",
            "_view_module_version": "1.5.0",
            "_view_name": "HTMLView",
            "description": "",
            "description_tooltip": null,
            "layout": "IPY_MODEL_f399be230a6f49ef92a47460e76501ca",
            "placeholder": "​",
            "style": "IPY_MODEL_c6b736971d59469d89594fd651a4b0e8",
            "value": "Downloading: 100%"
          }
        },
        "6d51d82b63d9487fabf99033980d2738": {
          "model_module": "@jupyter-widgets/controls",
          "model_name": "FloatProgressModel",
          "model_module_version": "1.5.0",
          "state": {
            "_dom_classes": [],
            "_model_module": "@jupyter-widgets/controls",
            "_model_module_version": "1.5.0",
            "_model_name": "FloatProgressModel",
            "_view_count": null,
            "_view_module": "@jupyter-widgets/controls",
            "_view_module_version": "1.5.0",
            "_view_name": "ProgressView",
            "bar_style": "success",
            "description": "",
            "description_tooltip": null,
            "layout": "IPY_MODEL_bc96a571db8d4745ae5ebe569c9ce10a",
            "max": 239,
            "min": 0,
            "orientation": "horizontal",
            "style": "IPY_MODEL_b16e0a93d4cb4f3796b72be898221183",
            "value": 239
          }
        },
        "37211562a250481987571ccd21984089": {
          "model_module": "@jupyter-widgets/controls",
          "model_name": "HTMLModel",
          "model_module_version": "1.5.0",
          "state": {
            "_dom_classes": [],
            "_model_module": "@jupyter-widgets/controls",
            "_model_module_version": "1.5.0",
            "_model_name": "HTMLModel",
            "_view_count": null,
            "_view_module": "@jupyter-widgets/controls",
            "_view_module_version": "1.5.0",
            "_view_name": "HTMLView",
            "description": "",
            "description_tooltip": null,
            "layout": "IPY_MODEL_894ae5a6c83146baacbfb12627b3fb61",
            "placeholder": "​",
            "style": "IPY_MODEL_7922903b471742ec8dbd08e7405fb9aa",
            "value": " 239/239 [00:00&lt;00:00, 3.69kB/s]"
          }
        },
        "35fe70aac82a4addb317e8344c880a0c": {
          "model_module": "@jupyter-widgets/base",
          "model_name": "LayoutModel",
          "model_module_version": "1.2.0",
          "state": {
            "_model_module": "@jupyter-widgets/base",
            "_model_module_version": "1.2.0",
            "_model_name": "LayoutModel",
            "_view_count": null,
            "_view_module": "@jupyter-widgets/base",
            "_view_module_version": "1.2.0",
            "_view_name": "LayoutView",
            "align_content": null,
            "align_items": null,
            "align_self": null,
            "border": null,
            "bottom": null,
            "display": null,
            "flex": null,
            "flex_flow": null,
            "grid_area": null,
            "grid_auto_columns": null,
            "grid_auto_flow": null,
            "grid_auto_rows": null,
            "grid_column": null,
            "grid_gap": null,
            "grid_row": null,
            "grid_template_areas": null,
            "grid_template_columns": null,
            "grid_template_rows": null,
            "height": null,
            "justify_content": null,
            "justify_items": null,
            "left": null,
            "margin": null,
            "max_height": null,
            "max_width": null,
            "min_height": null,
            "min_width": null,
            "object_fit": null,
            "object_position": null,
            "order": null,
            "overflow": null,
            "overflow_x": null,
            "overflow_y": null,
            "padding": null,
            "right": null,
            "top": null,
            "visibility": null,
            "width": null
          }
        },
        "f399be230a6f49ef92a47460e76501ca": {
          "model_module": "@jupyter-widgets/base",
          "model_name": "LayoutModel",
          "model_module_version": "1.2.0",
          "state": {
            "_model_module": "@jupyter-widgets/base",
            "_model_module_version": "1.2.0",
            "_model_name": "LayoutModel",
            "_view_count": null,
            "_view_module": "@jupyter-widgets/base",
            "_view_module_version": "1.2.0",
            "_view_name": "LayoutView",
            "align_content": null,
            "align_items": null,
            "align_self": null,
            "border": null,
            "bottom": null,
            "display": null,
            "flex": null,
            "flex_flow": null,
            "grid_area": null,
            "grid_auto_columns": null,
            "grid_auto_flow": null,
            "grid_auto_rows": null,
            "grid_column": null,
            "grid_gap": null,
            "grid_row": null,
            "grid_template_areas": null,
            "grid_template_columns": null,
            "grid_template_rows": null,
            "height": null,
            "justify_content": null,
            "justify_items": null,
            "left": null,
            "margin": null,
            "max_height": null,
            "max_width": null,
            "min_height": null,
            "min_width": null,
            "object_fit": null,
            "object_position": null,
            "order": null,
            "overflow": null,
            "overflow_x": null,
            "overflow_y": null,
            "padding": null,
            "right": null,
            "top": null,
            "visibility": null,
            "width": null
          }
        },
        "c6b736971d59469d89594fd651a4b0e8": {
          "model_module": "@jupyter-widgets/controls",
          "model_name": "DescriptionStyleModel",
          "model_module_version": "1.5.0",
          "state": {
            "_model_module": "@jupyter-widgets/controls",
            "_model_module_version": "1.5.0",
            "_model_name": "DescriptionStyleModel",
            "_view_count": null,
            "_view_module": "@jupyter-widgets/base",
            "_view_module_version": "1.2.0",
            "_view_name": "StyleView",
            "description_width": ""
          }
        },
        "bc96a571db8d4745ae5ebe569c9ce10a": {
          "model_module": "@jupyter-widgets/base",
          "model_name": "LayoutModel",
          "model_module_version": "1.2.0",
          "state": {
            "_model_module": "@jupyter-widgets/base",
            "_model_module_version": "1.2.0",
            "_model_name": "LayoutModel",
            "_view_count": null,
            "_view_module": "@jupyter-widgets/base",
            "_view_module_version": "1.2.0",
            "_view_name": "LayoutView",
            "align_content": null,
            "align_items": null,
            "align_self": null,
            "border": null,
            "bottom": null,
            "display": null,
            "flex": null,
            "flex_flow": null,
            "grid_area": null,
            "grid_auto_columns": null,
            "grid_auto_flow": null,
            "grid_auto_rows": null,
            "grid_column": null,
            "grid_gap": null,
            "grid_row": null,
            "grid_template_areas": null,
            "grid_template_columns": null,
            "grid_template_rows": null,
            "height": null,
            "justify_content": null,
            "justify_items": null,
            "left": null,
            "margin": null,
            "max_height": null,
            "max_width": null,
            "min_height": null,
            "min_width": null,
            "object_fit": null,
            "object_position": null,
            "order": null,
            "overflow": null,
            "overflow_x": null,
            "overflow_y": null,
            "padding": null,
            "right": null,
            "top": null,
            "visibility": null,
            "width": null
          }
        },
        "b16e0a93d4cb4f3796b72be898221183": {
          "model_module": "@jupyter-widgets/controls",
          "model_name": "ProgressStyleModel",
          "model_module_version": "1.5.0",
          "state": {
            "_model_module": "@jupyter-widgets/controls",
            "_model_module_version": "1.5.0",
            "_model_name": "ProgressStyleModel",
            "_view_count": null,
            "_view_module": "@jupyter-widgets/base",
            "_view_module_version": "1.2.0",
            "_view_name": "StyleView",
            "bar_color": null,
            "description_width": ""
          }
        },
        "894ae5a6c83146baacbfb12627b3fb61": {
          "model_module": "@jupyter-widgets/base",
          "model_name": "LayoutModel",
          "model_module_version": "1.2.0",
          "state": {
            "_model_module": "@jupyter-widgets/base",
            "_model_module_version": "1.2.0",
            "_model_name": "LayoutModel",
            "_view_count": null,
            "_view_module": "@jupyter-widgets/base",
            "_view_module_version": "1.2.0",
            "_view_name": "LayoutView",
            "align_content": null,
            "align_items": null,
            "align_self": null,
            "border": null,
            "bottom": null,
            "display": null,
            "flex": null,
            "flex_flow": null,
            "grid_area": null,
            "grid_auto_columns": null,
            "grid_auto_flow": null,
            "grid_auto_rows": null,
            "grid_column": null,
            "grid_gap": null,
            "grid_row": null,
            "grid_template_areas": null,
            "grid_template_columns": null,
            "grid_template_rows": null,
            "height": null,
            "justify_content": null,
            "justify_items": null,
            "left": null,
            "margin": null,
            "max_height": null,
            "max_width": null,
            "min_height": null,
            "min_width": null,
            "object_fit": null,
            "object_position": null,
            "order": null,
            "overflow": null,
            "overflow_x": null,
            "overflow_y": null,
            "padding": null,
            "right": null,
            "top": null,
            "visibility": null,
            "width": null
          }
        },
        "7922903b471742ec8dbd08e7405fb9aa": {
          "model_module": "@jupyter-widgets/controls",
          "model_name": "DescriptionStyleModel",
          "model_module_version": "1.5.0",
          "state": {
            "_model_module": "@jupyter-widgets/controls",
            "_model_module_version": "1.5.0",
            "_model_name": "DescriptionStyleModel",
            "_view_count": null,
            "_view_module": "@jupyter-widgets/base",
            "_view_module_version": "1.2.0",
            "_view_name": "StyleView",
            "description_width": ""
          }
        },
        "ce7d02f73b9144edb3d7d3d1db8451fb": {
          "model_module": "@jupyter-widgets/controls",
          "model_name": "HBoxModel",
          "model_module_version": "1.5.0",
          "state": {
            "_dom_classes": [],
            "_model_module": "@jupyter-widgets/controls",
            "_model_module_version": "1.5.0",
            "_model_name": "HBoxModel",
            "_view_count": null,
            "_view_module": "@jupyter-widgets/controls",
            "_view_module_version": "1.5.0",
            "_view_name": "HBoxView",
            "box_style": "",
            "children": [
              "IPY_MODEL_19e5ee3cd01e422885d1b09700d497ea",
              "IPY_MODEL_a68115ff3b8240e799d8db65bc732e48",
              "IPY_MODEL_c4fb422fe8e347499d9a8aa80a6022f0"
            ],
            "layout": "IPY_MODEL_cc61565153cb4349ac2befe56435aae2"
          }
        },
        "19e5ee3cd01e422885d1b09700d497ea": {
          "model_module": "@jupyter-widgets/controls",
          "model_name": "HTMLModel",
          "model_module_version": "1.5.0",
          "state": {
            "_dom_classes": [],
            "_model_module": "@jupyter-widgets/controls",
            "_model_module_version": "1.5.0",
            "_model_name": "HTMLModel",
            "_view_count": null,
            "_view_module": "@jupyter-widgets/controls",
            "_view_module_version": "1.5.0",
            "_view_name": "HTMLView",
            "description": "",
            "description_tooltip": null,
            "layout": "IPY_MODEL_511f517845ee4d0e9b6d0e85418b5914",
            "placeholder": "​",
            "style": "IPY_MODEL_5b8ec0d80cd547f4be225d33cd74d7a1",
            "value": "Downloading: 100%"
          }
        },
        "a68115ff3b8240e799d8db65bc732e48": {
          "model_module": "@jupyter-widgets/controls",
          "model_name": "FloatProgressModel",
          "model_module_version": "1.5.0",
          "state": {
            "_dom_classes": [],
            "_model_module": "@jupyter-widgets/controls",
            "_model_module_version": "1.5.0",
            "_model_name": "FloatProgressModel",
            "_view_count": null,
            "_view_module": "@jupyter-widgets/controls",
            "_view_module_version": "1.5.0",
            "_view_name": "ProgressView",
            "bar_style": "success",
            "description": "",
            "description_tooltip": null,
            "layout": "IPY_MODEL_058eb654fd9d4da28ff00c925fce409c",
            "max": 470693617,
            "min": 0,
            "orientation": "horizontal",
            "style": "IPY_MODEL_61a12d84c15e45e295a9a64fe110f31b",
            "value": 470693617
          }
        },
        "c4fb422fe8e347499d9a8aa80a6022f0": {
          "model_module": "@jupyter-widgets/controls",
          "model_name": "HTMLModel",
          "model_module_version": "1.5.0",
          "state": {
            "_dom_classes": [],
            "_model_module": "@jupyter-widgets/controls",
            "_model_module_version": "1.5.0",
            "_model_name": "HTMLModel",
            "_view_count": null,
            "_view_module": "@jupyter-widgets/controls",
            "_view_module_version": "1.5.0",
            "_view_name": "HTMLView",
            "description": "",
            "description_tooltip": null,
            "layout": "IPY_MODEL_2e2fae7e46404754b132572e9d26014f",
            "placeholder": "​",
            "style": "IPY_MODEL_be8c70b1c3c04b5c920a6e2f60567121",
            "value": " 449M/449M [00:08&lt;00:00, 55.6MB/s]"
          }
        },
        "cc61565153cb4349ac2befe56435aae2": {
          "model_module": "@jupyter-widgets/base",
          "model_name": "LayoutModel",
          "model_module_version": "1.2.0",
          "state": {
            "_model_module": "@jupyter-widgets/base",
            "_model_module_version": "1.2.0",
            "_model_name": "LayoutModel",
            "_view_count": null,
            "_view_module": "@jupyter-widgets/base",
            "_view_module_version": "1.2.0",
            "_view_name": "LayoutView",
            "align_content": null,
            "align_items": null,
            "align_self": null,
            "border": null,
            "bottom": null,
            "display": null,
            "flex": null,
            "flex_flow": null,
            "grid_area": null,
            "grid_auto_columns": null,
            "grid_auto_flow": null,
            "grid_auto_rows": null,
            "grid_column": null,
            "grid_gap": null,
            "grid_row": null,
            "grid_template_areas": null,
            "grid_template_columns": null,
            "grid_template_rows": null,
            "height": null,
            "justify_content": null,
            "justify_items": null,
            "left": null,
            "margin": null,
            "max_height": null,
            "max_width": null,
            "min_height": null,
            "min_width": null,
            "object_fit": null,
            "object_position": null,
            "order": null,
            "overflow": null,
            "overflow_x": null,
            "overflow_y": null,
            "padding": null,
            "right": null,
            "top": null,
            "visibility": null,
            "width": null
          }
        },
        "511f517845ee4d0e9b6d0e85418b5914": {
          "model_module": "@jupyter-widgets/base",
          "model_name": "LayoutModel",
          "model_module_version": "1.2.0",
          "state": {
            "_model_module": "@jupyter-widgets/base",
            "_model_module_version": "1.2.0",
            "_model_name": "LayoutModel",
            "_view_count": null,
            "_view_module": "@jupyter-widgets/base",
            "_view_module_version": "1.2.0",
            "_view_name": "LayoutView",
            "align_content": null,
            "align_items": null,
            "align_self": null,
            "border": null,
            "bottom": null,
            "display": null,
            "flex": null,
            "flex_flow": null,
            "grid_area": null,
            "grid_auto_columns": null,
            "grid_auto_flow": null,
            "grid_auto_rows": null,
            "grid_column": null,
            "grid_gap": null,
            "grid_row": null,
            "grid_template_areas": null,
            "grid_template_columns": null,
            "grid_template_rows": null,
            "height": null,
            "justify_content": null,
            "justify_items": null,
            "left": null,
            "margin": null,
            "max_height": null,
            "max_width": null,
            "min_height": null,
            "min_width": null,
            "object_fit": null,
            "object_position": null,
            "order": null,
            "overflow": null,
            "overflow_x": null,
            "overflow_y": null,
            "padding": null,
            "right": null,
            "top": null,
            "visibility": null,
            "width": null
          }
        },
        "5b8ec0d80cd547f4be225d33cd74d7a1": {
          "model_module": "@jupyter-widgets/controls",
          "model_name": "DescriptionStyleModel",
          "model_module_version": "1.5.0",
          "state": {
            "_model_module": "@jupyter-widgets/controls",
            "_model_module_version": "1.5.0",
            "_model_name": "DescriptionStyleModel",
            "_view_count": null,
            "_view_module": "@jupyter-widgets/base",
            "_view_module_version": "1.2.0",
            "_view_name": "StyleView",
            "description_width": ""
          }
        },
        "058eb654fd9d4da28ff00c925fce409c": {
          "model_module": "@jupyter-widgets/base",
          "model_name": "LayoutModel",
          "model_module_version": "1.2.0",
          "state": {
            "_model_module": "@jupyter-widgets/base",
            "_model_module_version": "1.2.0",
            "_model_name": "LayoutModel",
            "_view_count": null,
            "_view_module": "@jupyter-widgets/base",
            "_view_module_version": "1.2.0",
            "_view_name": "LayoutView",
            "align_content": null,
            "align_items": null,
            "align_self": null,
            "border": null,
            "bottom": null,
            "display": null,
            "flex": null,
            "flex_flow": null,
            "grid_area": null,
            "grid_auto_columns": null,
            "grid_auto_flow": null,
            "grid_auto_rows": null,
            "grid_column": null,
            "grid_gap": null,
            "grid_row": null,
            "grid_template_areas": null,
            "grid_template_columns": null,
            "grid_template_rows": null,
            "height": null,
            "justify_content": null,
            "justify_items": null,
            "left": null,
            "margin": null,
            "max_height": null,
            "max_width": null,
            "min_height": null,
            "min_width": null,
            "object_fit": null,
            "object_position": null,
            "order": null,
            "overflow": null,
            "overflow_x": null,
            "overflow_y": null,
            "padding": null,
            "right": null,
            "top": null,
            "visibility": null,
            "width": null
          }
        },
        "61a12d84c15e45e295a9a64fe110f31b": {
          "model_module": "@jupyter-widgets/controls",
          "model_name": "ProgressStyleModel",
          "model_module_version": "1.5.0",
          "state": {
            "_model_module": "@jupyter-widgets/controls",
            "_model_module_version": "1.5.0",
            "_model_name": "ProgressStyleModel",
            "_view_count": null,
            "_view_module": "@jupyter-widgets/base",
            "_view_module_version": "1.2.0",
            "_view_name": "StyleView",
            "bar_color": null,
            "description_width": ""
          }
        },
        "2e2fae7e46404754b132572e9d26014f": {
          "model_module": "@jupyter-widgets/base",
          "model_name": "LayoutModel",
          "model_module_version": "1.2.0",
          "state": {
            "_model_module": "@jupyter-widgets/base",
            "_model_module_version": "1.2.0",
            "_model_name": "LayoutModel",
            "_view_count": null,
            "_view_module": "@jupyter-widgets/base",
            "_view_module_version": "1.2.0",
            "_view_name": "LayoutView",
            "align_content": null,
            "align_items": null,
            "align_self": null,
            "border": null,
            "bottom": null,
            "display": null,
            "flex": null,
            "flex_flow": null,
            "grid_area": null,
            "grid_auto_columns": null,
            "grid_auto_flow": null,
            "grid_auto_rows": null,
            "grid_column": null,
            "grid_gap": null,
            "grid_row": null,
            "grid_template_areas": null,
            "grid_template_columns": null,
            "grid_template_rows": null,
            "height": null,
            "justify_content": null,
            "justify_items": null,
            "left": null,
            "margin": null,
            "max_height": null,
            "max_width": null,
            "min_height": null,
            "min_width": null,
            "object_fit": null,
            "object_position": null,
            "order": null,
            "overflow": null,
            "overflow_x": null,
            "overflow_y": null,
            "padding": null,
            "right": null,
            "top": null,
            "visibility": null,
            "width": null
          }
        },
        "be8c70b1c3c04b5c920a6e2f60567121": {
          "model_module": "@jupyter-widgets/controls",
          "model_name": "DescriptionStyleModel",
          "model_module_version": "1.5.0",
          "state": {
            "_model_module": "@jupyter-widgets/controls",
            "_model_module_version": "1.5.0",
            "_model_name": "DescriptionStyleModel",
            "_view_count": null,
            "_view_module": "@jupyter-widgets/base",
            "_view_module_version": "1.2.0",
            "_view_name": "StyleView",
            "description_width": ""
          }
        }
      }
    }
  },
  "cells": [
    {
      "cell_type": "markdown",
      "metadata": {
        "id": "view-in-github",
        "colab_type": "text"
      },
      "source": [
        "<a href=\"https://colab.research.google.com/github/ColinS97/htw_cnn_lecture/blob/main/assignments/transformer/nlp_3_neural_search.ipynb\" target=\"_parent\"><img src=\"https://colab.research.google.com/assets/colab-badge.svg\" alt=\"Open In Colab\"/></a>"
      ]
    },
    {
      "cell_type": "markdown",
      "metadata": {
        "id": "3rv87R1Y_Cb1"
      },
      "source": [
        "# Neural search with Transformers\n",
        "\n",
        "## What are we going to do?\n",
        "\n",
        "Instead of searching text by compareing characters and words, \n",
        "we will use the power of transfomer models and compare texts in vector sprace.\n",
        "\n",
        "![](https://media.giphy.com/media/xT0xeJpnrWC4XWblEk/giphy.gif)"
      ]
    },
    {
      "cell_type": "markdown",
      "metadata": {
        "id": "tLW_it_2_MQk"
      },
      "source": [
        "## installing dependencies"
      ]
    },
    {
      "cell_type": "code",
      "metadata": {
        "colab": {
          "base_uri": "https://localhost:8080/"
        },
        "id": "CaGQZ-m8d1ff",
        "outputId": "0fad4213-f2d9-4025-ccd0-f6b9fc332fbe"
      },
      "source": [
        "!pip install transformers"
      ],
      "execution_count": 1,
      "outputs": [
        {
          "output_type": "stream",
          "name": "stdout",
          "text": [
            "Looking in indexes: https://pypi.org/simple, https://us-python.pkg.dev/colab-wheels/public/simple/\n",
            "Collecting transformers\n",
            "  Downloading transformers-4.19.2-py3-none-any.whl (4.2 MB)\n",
            "\u001b[K     |████████████████████████████████| 4.2 MB 4.9 MB/s \n",
            "\u001b[?25hRequirement already satisfied: tqdm>=4.27 in /usr/local/lib/python3.7/dist-packages (from transformers) (4.64.0)\n",
            "Requirement already satisfied: numpy>=1.17 in /usr/local/lib/python3.7/dist-packages (from transformers) (1.21.6)\n",
            "Requirement already satisfied: regex!=2019.12.17 in /usr/local/lib/python3.7/dist-packages (from transformers) (2019.12.20)\n",
            "Collecting tokenizers!=0.11.3,<0.13,>=0.11.1\n",
            "  Downloading tokenizers-0.12.1-cp37-cp37m-manylinux_2_12_x86_64.manylinux2010_x86_64.whl (6.6 MB)\n",
            "\u001b[K     |████████████████████████████████| 6.6 MB 41.4 MB/s \n",
            "\u001b[?25hRequirement already satisfied: filelock in /usr/local/lib/python3.7/dist-packages (from transformers) (3.7.0)\n",
            "Collecting pyyaml>=5.1\n",
            "  Downloading PyYAML-6.0-cp37-cp37m-manylinux_2_5_x86_64.manylinux1_x86_64.manylinux_2_12_x86_64.manylinux2010_x86_64.whl (596 kB)\n",
            "\u001b[K     |████████████████████████████████| 596 kB 60.2 MB/s \n",
            "\u001b[?25hRequirement already satisfied: importlib-metadata in /usr/local/lib/python3.7/dist-packages (from transformers) (4.11.3)\n",
            "Requirement already satisfied: requests in /usr/local/lib/python3.7/dist-packages (from transformers) (2.23.0)\n",
            "Requirement already satisfied: packaging>=20.0 in /usr/local/lib/python3.7/dist-packages (from transformers) (21.3)\n",
            "Collecting huggingface-hub<1.0,>=0.1.0\n",
            "  Downloading huggingface_hub-0.6.0-py3-none-any.whl (84 kB)\n",
            "\u001b[K     |████████████████████████████████| 84 kB 4.0 MB/s \n",
            "\u001b[?25hRequirement already satisfied: typing-extensions>=3.7.4.3 in /usr/local/lib/python3.7/dist-packages (from huggingface-hub<1.0,>=0.1.0->transformers) (4.2.0)\n",
            "Requirement already satisfied: pyparsing!=3.0.5,>=2.0.2 in /usr/local/lib/python3.7/dist-packages (from packaging>=20.0->transformers) (3.0.9)\n",
            "Requirement already satisfied: zipp>=0.5 in /usr/local/lib/python3.7/dist-packages (from importlib-metadata->transformers) (3.8.0)\n",
            "Requirement already satisfied: chardet<4,>=3.0.2 in /usr/local/lib/python3.7/dist-packages (from requests->transformers) (3.0.4)\n",
            "Requirement already satisfied: urllib3!=1.25.0,!=1.25.1,<1.26,>=1.21.1 in /usr/local/lib/python3.7/dist-packages (from requests->transformers) (1.24.3)\n",
            "Requirement already satisfied: certifi>=2017.4.17 in /usr/local/lib/python3.7/dist-packages (from requests->transformers) (2022.5.18.1)\n",
            "Requirement already satisfied: idna<3,>=2.5 in /usr/local/lib/python3.7/dist-packages (from requests->transformers) (2.10)\n",
            "Installing collected packages: pyyaml, tokenizers, huggingface-hub, transformers\n",
            "  Attempting uninstall: pyyaml\n",
            "    Found existing installation: PyYAML 3.13\n",
            "    Uninstalling PyYAML-3.13:\n",
            "      Successfully uninstalled PyYAML-3.13\n",
            "Successfully installed huggingface-hub-0.6.0 pyyaml-6.0 tokenizers-0.12.1 transformers-4.19.2\n"
          ]
        }
      ]
    },
    {
      "cell_type": "code",
      "metadata": {
        "id": "E9NkZQaPdtbB"
      },
      "source": [
        "from transformers import AutoModel, AutoTokenizer"
      ],
      "execution_count": 2,
      "outputs": []
    },
    {
      "cell_type": "code",
      "source": [
        "def mean_pooling(model_output, attention_mask):\n",
        "    token_embeddings = model_output[0] #First element of model_output contains all token embeddings\n",
        "    input_mask_expanded = attention_mask.unsqueeze(-1).expand(token_embeddings.size()).float()\n",
        "    return torch.sum(token_embeddings * input_mask_expanded, 1) / torch.clamp(input_mask_expanded.sum(1), min=1e-9)\n"
      ],
      "metadata": {
        "id": "UWVC7TCcuH_9"
      },
      "execution_count": 31,
      "outputs": []
    },
    {
      "cell_type": "markdown",
      "metadata": {
        "id": "3WdMPh99_XRc"
      },
      "source": [
        "## loading a model"
      ]
    },
    {
      "cell_type": "code",
      "metadata": {
        "colab": {
          "base_uri": "https://localhost:8080/",
          "height": 177,
          "referenced_widgets": [
            "30dc686cb4534fb492fd0e839bfa0af5",
            "4da470d4dee84a78be277a9e5936e795",
            "4c8718dd92b74f9280d90747fba30c0c",
            "6f4fc0b062dd4e018769570130a23d99",
            "b4de9cd33b164316973a367c8c499906",
            "47726a95814543828a357d3489beee6d",
            "b5c6677a2db041f382a0de3315ea621d",
            "55d0b440215e4924b49a584ac34f3cd9",
            "3ec558fa13ab4aa1b416f346c93d3fcb",
            "dc11b9e0fa4a4119a06911504f75c26e",
            "37f9d63e611c41958f2e6ddf5c0441ba",
            "f700627a43bb46eeae81cae0cda7901a",
            "928c297d1ed6486a92b488891204b33e",
            "3858dd8dff7643848cc3e13d380257bc",
            "a5d2c93d1a034216bf6033e181948522",
            "5a6067845ee140a29e0ee332fd658f62",
            "4a47a8c6523149dab64cec4d70920abd",
            "8ffb1802cf7f4c05bef0d19d292df40f",
            "bece6107a36d4253bc9a3c31f1fc014a",
            "9c97dde481c2406faba4aa37f3450bcb",
            "c614166cf149439997407dc2421632bb",
            "5aa4a77ec4184367bfacc6a9745f2284",
            "67a138df2b78496386c1c0ee21b75e5a",
            "1e49b7108e1b49a5b89d06b84ceac717",
            "1179f759f79d4107ae835c23f0ff0937",
            "999f4ec16d954cedbace844ed9d4a00c",
            "bc12cb6f8e08478f8dd7e84cc43f52db",
            "163f1fda99d542918c375011c441f966",
            "c68aee11b4e648df86da59ebccb6908c",
            "e73db5329f304b848c00089bd72f4720",
            "fd9b56d17f01466880ee672a8e39c796",
            "11df0f68d1664ef29b53776d861a64c4",
            "f297b1bff77f44faa4de7e7d40a48db8",
            "9fc47afb59b24c03881d65279d1628f0",
            "bdf19c1a90b74f7aa45883156d650b16",
            "6d51d82b63d9487fabf99033980d2738",
            "37211562a250481987571ccd21984089",
            "35fe70aac82a4addb317e8344c880a0c",
            "f399be230a6f49ef92a47460e76501ca",
            "c6b736971d59469d89594fd651a4b0e8",
            "bc96a571db8d4745ae5ebe569c9ce10a",
            "b16e0a93d4cb4f3796b72be898221183",
            "894ae5a6c83146baacbfb12627b3fb61",
            "7922903b471742ec8dbd08e7405fb9aa",
            "ce7d02f73b9144edb3d7d3d1db8451fb",
            "19e5ee3cd01e422885d1b09700d497ea",
            "a68115ff3b8240e799d8db65bc732e48",
            "c4fb422fe8e347499d9a8aa80a6022f0",
            "cc61565153cb4349ac2befe56435aae2",
            "511f517845ee4d0e9b6d0e85418b5914",
            "5b8ec0d80cd547f4be225d33cd74d7a1",
            "058eb654fd9d4da28ff00c925fce409c",
            "61a12d84c15e45e295a9a64fe110f31b",
            "2e2fae7e46404754b132572e9d26014f",
            "be8c70b1c3c04b5c920a6e2f60567121"
          ]
        },
        "id": "_bbNxIhsd_OX",
        "outputId": "f91cc9ae-0e56-4e31-f28a-f1acd9737253"
      },
      "source": [
        "model_name = \"sentence-transformers/paraphrase-multilingual-MiniLM-L12-v2\"\n",
        "tokenizer = AutoTokenizer.from_pretrained(model_name)\n",
        "model = AutoModel.from_pretrained(model_name)\n"
      ],
      "execution_count": 33,
      "outputs": [
        {
          "output_type": "display_data",
          "data": {
            "text/plain": [
              "Downloading:   0%|          | 0.00/480 [00:00<?, ?B/s]"
            ],
            "application/vnd.jupyter.widget-view+json": {
              "version_major": 2,
              "version_minor": 0,
              "model_id": "30dc686cb4534fb492fd0e839bfa0af5"
            }
          },
          "metadata": {}
        },
        {
          "output_type": "display_data",
          "data": {
            "text/plain": [
              "Downloading:   0%|          | 0.00/645 [00:00<?, ?B/s]"
            ],
            "application/vnd.jupyter.widget-view+json": {
              "version_major": 2,
              "version_minor": 0,
              "model_id": "f700627a43bb46eeae81cae0cda7901a"
            }
          },
          "metadata": {}
        },
        {
          "output_type": "display_data",
          "data": {
            "text/plain": [
              "Downloading:   0%|          | 0.00/8.66M [00:00<?, ?B/s]"
            ],
            "application/vnd.jupyter.widget-view+json": {
              "version_major": 2,
              "version_minor": 0,
              "model_id": "67a138df2b78496386c1c0ee21b75e5a"
            }
          },
          "metadata": {}
        },
        {
          "output_type": "display_data",
          "data": {
            "text/plain": [
              "Downloading:   0%|          | 0.00/239 [00:00<?, ?B/s]"
            ],
            "application/vnd.jupyter.widget-view+json": {
              "version_major": 2,
              "version_minor": 0,
              "model_id": "9fc47afb59b24c03881d65279d1628f0"
            }
          },
          "metadata": {}
        },
        {
          "output_type": "display_data",
          "data": {
            "text/plain": [
              "Downloading:   0%|          | 0.00/449M [00:00<?, ?B/s]"
            ],
            "application/vnd.jupyter.widget-view+json": {
              "version_major": 2,
              "version_minor": 0,
              "model_id": "ce7d02f73b9144edb3d7d3d1db8451fb"
            }
          },
          "metadata": {}
        }
      ]
    },
    {
      "cell_type": "code",
      "source": [
        "model"
      ],
      "metadata": {
        "id": "dcMQtRXnrIT0"
      },
      "execution_count": null,
      "outputs": []
    },
    {
      "cell_type": "markdown",
      "metadata": {
        "id": "28oCtQjgAtI1"
      },
      "source": [
        "## transforming a text to an vector"
      ]
    },
    {
      "cell_type": "code",
      "source": [
        "sentences = ['This is an example sentence', 'Each sentence is converted']"
      ],
      "metadata": {
        "id": "t6J15uxJud-e"
      },
      "execution_count": 34,
      "outputs": []
    },
    {
      "cell_type": "code",
      "metadata": {
        "colab": {
          "base_uri": "https://localhost:8080/"
        },
        "id": "YPoj357jp4ui",
        "outputId": "82183381-0d54-4fb4-e59b-ee4e758410d3"
      },
      "source": [
        "inputs = tokenizer(sentences, return_tensors=\"pt\", padding=True,truncation=True)\n",
        "inputs"
      ],
      "execution_count": 35,
      "outputs": [
        {
          "output_type": "execute_result",
          "data": {
            "text/plain": [
              "{'input_ids': tensor([[     0,   3293,     83,    142,  27781, 149357,      2],\n",
              "        [     0,  98423, 149357,     83, 117176,     71,      2]]), 'token_type_ids': tensor([[0, 0, 0, 0, 0, 0, 0],\n",
              "        [0, 0, 0, 0, 0, 0, 0]]), 'attention_mask': tensor([[1, 1, 1, 1, 1, 1, 1],\n",
              "        [1, 1, 1, 1, 1, 1, 1]])}"
            ]
          },
          "metadata": {},
          "execution_count": 35
        }
      ]
    },
    {
      "cell_type": "code",
      "metadata": {
        "colab": {
          "base_uri": "https://localhost:8080/"
        },
        "id": "6YGX4KrgeiA2",
        "outputId": "ec334e49-6ebd-4ecc-c1d7-9bc084063f5d"
      },
      "source": [
        "outputs = model(**inputs)\n",
        "# ** means to use the dictionary keys as input keys for the function, so the names need to match up here\n",
        "outputs "
      ],
      "execution_count": 6,
      "outputs": [
        {
          "output_type": "execute_result",
          "data": {
            "text/plain": [
              "BaseModelOutputWithPoolingAndCrossAttentions([('last_hidden_state',\n",
              "                                               tensor([[[ 0.2415,  0.6428, -0.5918,  ...,  0.7404,  0.1338, -0.2779],\n",
              "                                                        [ 0.2890,  0.7354, -0.9872,  ...,  0.7438, -0.6845, -0.1892],\n",
              "                                                        [ 0.2164,  0.8085, -0.6320,  ...,  0.6260, -0.6735,  0.2411],\n",
              "                                                        [-0.2210,  0.8246, -0.6606,  ...,  0.8001, -0.1529,  0.0831],\n",
              "                                                        [-0.0573,  1.1134, -0.8065,  ...,  0.5099, -0.2104, -0.0108],\n",
              "                                                        [ 0.2753,  1.0079, -0.7109,  ...,  0.3392,  0.1056,  0.1083]],\n",
              "                                               \n",
              "                                                       [[ 0.1849,  0.7584, -0.2930,  ...,  0.7572,  0.9876, -0.3735],\n",
              "                                                        [-0.1126,  0.4629,  0.1694,  ...,  0.6890,  1.0042,  0.1605],\n",
              "                                                        [ 0.2347,  0.6738,  0.0666,  ...,  1.5162,  1.0815, -0.3996],\n",
              "                                                        [ 0.3617,  0.5564, -0.1379,  ...,  1.5741,  0.1379, -0.6182],\n",
              "                                                        [ 0.3491,  1.1313, -0.5140,  ...,  1.0632,  0.8066,  0.0784],\n",
              "                                                        [-0.0343,  0.9834, -0.1314,  ...,  0.2654,  0.5890,  0.3733]]],\n",
              "                                                      grad_fn=<NativeLayerNormBackward0>)),\n",
              "                                              ('pooler_output',\n",
              "                                               tensor([[ 0.1831,  0.9974, -0.3264,  ...,  0.1962, -0.9460,  0.8864],\n",
              "                                                       [-0.1651,  0.9568, -0.3200,  ...,  0.3317, -0.6284,  0.8523]],\n",
              "                                                      grad_fn=<TanhBackward0>))])"
            ]
          },
          "metadata": {},
          "execution_count": 6
        }
      ]
    },
    {
      "cell_type": "markdown",
      "metadata": {
        "id": "6kNALuHlfdLm"
      },
      "source": [
        "**last_hidden_state**: Sequence of hidden-states at the output of the last layer of the model."
      ]
    },
    {
      "cell_type": "code",
      "metadata": {
        "colab": {
          "base_uri": "https://localhost:8080/"
        },
        "id": "Dsd2DWh8eq6V",
        "outputId": "69cdc456-4379-42f2-b26f-3c998ef3bd4c"
      },
      "source": [
        "outputs[\"last_hidden_state\"].shape\n"
      ],
      "execution_count": 30,
      "outputs": [
        {
          "output_type": "execute_result",
          "data": {
            "text/plain": [
              "torch.Size([2, 6, 768])"
            ]
          },
          "metadata": {},
          "execution_count": 30
        }
      ]
    },
    {
      "cell_type": "markdown",
      "metadata": {
        "id": "qe7sCh-JfTgs"
      },
      "source": [
        "**pooler_output**: Last layer hidden-state of the first token of the sequence (classification token) further processed by a Linear layer and a Tanh activation function. The Linear layer weights are trained from the next sentence prediction (classification) objective during pretraining."
      ]
    },
    {
      "cell_type": "code",
      "metadata": {
        "id": "nkkAAAJSet-T",
        "colab": {
          "base_uri": "https://localhost:8080/"
        },
        "outputId": "8ef5bc84-7ea9-4d4b-8450-d4f5838e0010"
      },
      "source": [
        "outputs[\"pooler_output\"].shape"
      ],
      "execution_count": 8,
      "outputs": [
        {
          "output_type": "execute_result",
          "data": {
            "text/plain": [
              "torch.Size([2, 768])"
            ]
          },
          "metadata": {},
          "execution_count": 8
        }
      ]
    },
    {
      "cell_type": "markdown",
      "metadata": {
        "id": "ofeVWrZvBJ2G"
      },
      "source": [
        "## loading data \n",
        "\n",
        "We load a data set of news headlines from german newspapers. This data set contains the headlines and the according article urls.\n",
        "After we loaded the data, we need to convert all headlines into vectors."
      ]
    },
    {
      "cell_type": "code",
      "metadata": {
        "colab": {
          "base_uri": "https://localhost:8080/"
        },
        "id": "QgprWrfBLrkZ",
        "outputId": "1f55a15d-fb5c-4a2e-a5bd-1609a91ab810"
      },
      "source": [
        "!curl -O https://www2.htw-dresden.de/~guhr/dist/feeds.tsv \n"
      ],
      "execution_count": 9,
      "outputs": [
        {
          "output_type": "stream",
          "name": "stdout",
          "text": [
            "  % Total    % Received % Xferd  Average Speed   Time    Time     Time  Current\n",
            "                                 Dload  Upload   Total   Spent    Left  Speed\n",
            "100 10.0M  100 10.0M    0     0  5192k      0  0:00:01  0:00:01 --:--:-- 5192k\n"
          ]
        }
      ]
    },
    {
      "cell_type": "code",
      "metadata": {
        "colab": {
          "base_uri": "https://localhost:8080/"
        },
        "id": "L-2ljeZdh-E6",
        "outputId": "dce4537f-642d-4209-8f82-5b53d8f20f6a"
      },
      "source": [
        "!head feeds.tsv"
      ],
      "execution_count": 10,
      "outputs": [
        {
          "output_type": "stream",
          "name": "stdout",
          "text": [
            "id\ttitle\ttext\ttime\tlink\t\t\n",
            "https://www.spiegel.de/politik/deutschland/corona-krise-in-deutschland-wie-kommen-wir-wieder-raus-a-d8099433-e178-46be-957a-f6c779b3f2f5\t'Corona-Krise in Deutschland: Wie kommen wir wieder raus?'\t'Die Bundesregierung will in der kommenden Woche über mögliche Szenarien für den Exit aus dem Lockdown beraten. Schon jetzt warnen Politiker vor einem überhasteten Aussetzen der Maßnahmen. Der Überblick.'\t'Mon, 13 Apr 2020 18:18:00 +0200'\t'https://www.spiegel.de/politik/deutschland/corona-krise-in-deutschland-wie-kommen-wir-wieder-raus-a-d8099433-e178-46be-957a-f6c779b3f2f5#ref=rss\t\t\n",
            "https://www.spiegel.de/wissenschaft/leopoldina-forscher-legen-konkreten-fahrplan-fuer-ende-der-kontaktsperren-vor-a-0cfd0aed-cf48-4dd1-a219-241d818d60ae\t'Leopoldina-Forscher legen konkreten Fahrplan für Ende der Kontaktsperren vor'\t'Die Nationalakademie Leopoldina empfiehlt eine baldige Rückkehr zur Schule. Auch Geschäfte und Behörden sollen schrittweise eröffnen und Reisen erlaubt werden - aber unter Bedingungen, so ein Papier, das dem SPIEGEL vorliegt.'\t'Mon, 13 Apr 2020 12:11:00 +0200'\t'https://www.spiegel.de/wissenschaft/leopoldina-forscher-legen-konkreten-fahrplan-fuer-ende-der-kontaktsperren-vor-a-0cfd0aed-cf48-4dd1-a219-241d818d60ae#ref=rss\t\t\n",
            "https://www.spiegel.de/wissenschaft/philosophie-coronavirus-lockdown-wir-muessen-uebers-sterben-reden-a-9a2617d5-7ff6-455c-967b-b3b0858e7b3f\t'Philosophie Coronavirus-Lockdown: Wir müssen übers Sterben reden'\t\"'\"\"Regulierte Ausbreitung\"\" versus \"\"konsequente Eindämmung\"\" - diese Strategien stehen sich im Kampf gegen Corona gegenüber. Welcher Weg zerstört mehr von dem, was uns wichtig ist im Leben?'\"\t'Mon, 13 Apr 2020 18:05:20 +0200'\t'https://www.spiegel.de/wissenschaft/philosophie-coronavirus-lockdown-wir-muessen-uebers-sterben-reden-a-9a2617d5-7ff6-455c-967b-b3b0858e7b3f#ref=rss\t\t\n",
            "https://www.spiegel.de/politik/ausland/coronavirus-in-indonesien-gefaehrliche-heimreise-a-467488b7-c2d9-4d9e-b83e-091b8da0fbc0\t'Coronavirus in Indonesien: Gefährliche Heimreise'\t'In Indonesien sind bislang mehr Menschen an Covid-19 gestorben als in allen anderen Ländern Asiens - China ausgenommen. Während des Ramadans könnte sich das Virus noch weiter verbreiten.'\t'Mon, 13 Apr 2020 18:37:11 +0200'\t'https://www.spiegel.de/politik/ausland/coronavirus-in-indonesien-gefaehrliche-heimreise-a-467488b7-c2d9-4d9e-b83e-091b8da0fbc0#ref=rss\t\t\n",
            "https://www.spiegel.de/wissenschaft/medizin/coronavirus-news-am-montag-die-wichtigsten-entwicklungen-zu-sars-cov-2-und-covid-19-a-982c966f-3046-455d-b403-1ed1c4befb1e\t'Coronavirus News am Montag: Die wichtigsten Entwicklungen zu Sars-CoV-2 und Covid-19'\t'Im US-Bundesstaat New York ist die Zahl der Coronavirus-Toten weiter stark gestiegen. Gouverneur Andrew Cuomo sieht das Schlimmste jedoch überwunden. Der Überblick.'\t'Mon, 13 Apr 2020 16:58:00 +0200'\t'https://www.spiegel.de/wissenschaft/medizin/coronavirus-news-am-montag-die-wichtigsten-entwicklungen-zu-sars-cov-2-und-covid-19-a-982c966f-3046-455d-b403-1ed1c4befb1e#ref=rss\t\t\n",
            "https://www.spiegel.de/panorama/corona-lockdown-deutsche-sind-immer-mehr-unterwegs-a-c8a6b940-600d-47c5-bf40-2ce4c26b9a7a\t'Corona-Lockdown: Deutsche sind immer mehr unterwegs'\t'Ende März blieben viele Menschen wegen Corona noch brav zu Hause. Doch nun zeigen Handydaten, dass die Bevölkerung von Tag zu Tag mobiler wird - vor allem die ostdeutsche.'\t'Mon, 13 Apr 2020 10:50:06 +0200'\t'https://www.spiegel.de/panorama/corona-lockdown-deutsche-sind-immer-mehr-unterwegs-a-c8a6b940-600d-47c5-bf40-2ce4c26b9a7a#ref=rss\t\t\n",
            "https://www.spiegel.de/wirtschaft/corona-krise-warum-vorhersagen-zu-wirtschaft-und-boerse-kaum-moeglich-sind-a-cfaac091-056f-43fb-af8d-f5de446bc8d1\t'Corona-Krise: Warum Vorhersagen zu Wirtschaft und Börse kaum möglich sind'\t'Die Halbwertzeit von ökonomischen Prognosen ist in der Coronakrise so kurz wie nie. Belastbare Vorhersagen zum Wirtschaftswachstum oder den Börsenkursen sind kaum möglich.'\t'Mon, 13 Apr 2020 16:00:31 +0200'\t'https://www.spiegel.de/wirtschaft/corona-krise-warum-vorhersagen-zu-wirtschaft-und-boerse-kaum-moeglich-sind-a-cfaac091-056f-43fb-af8d-f5de446bc8d1#ref=rss\t\t\n",
            "https://www.spiegel.de/panorama/gesellschaft/corona-alltags-heldin-susanne-rudwill-56-kassiererin-will-nicht-hinter-einer-maske-laecheln-a-721fe6ea-feab-4f3d-a8bc-f3171f9c621b\t'Corona-Alltags-Heldin: Susanne Rudwill, 56, Kassiererin, will nicht hinter einer Maske lächeln'\t'Das öffentliche Leben steht still, doch einige Menschen halten die Gesellschaft am Laufen. Hier kommen sie zu Wort.'\t'Mon, 13 Apr 2020 18:36:33 +0200'\t'https://www.spiegel.de/panorama/gesellschaft/corona-alltags-heldin-susanne-rudwill-56-kassiererin-will-nicht-hinter-einer-maske-laecheln-a-721fe6ea-feab-4f3d-a8bc-f3171f9c621b#ref=rss\t\t\n",
            "https://www.spiegel.de/politik/deutschland/corona-politik-darf-keine-erwartungen-wecken-die-sie-spaeter-enttaeuschen-muss-a-00000000-0002-0001-0000-000170435607\t'Corona: Politik darf keine Erwartungen wecken, die sie später enttäuschen muss'\t'Die Kanzlerin, die Länder haben die schwierige Aufgabe, die Bürger zu schützen: vor dem Virus, aber auch davor, die Nerven zu verlieren.'\t'Fri, 10 Apr 2020 18:00:00 +0200'\t'https://www.spiegel.de/politik/deutschland/corona-politik-darf-keine-erwartungen-wecken-die-sie-spaeter-enttaeuschen-muss-a-00000000-0002-0001-0000-000170435607#ref=rss\t\t\n"
          ]
        }
      ]
    },
    {
      "cell_type": "code",
      "metadata": {
        "id": "6oxfsJZziIcY"
      },
      "source": [
        "import time\n",
        "import pandas as pd\n",
        "import numpy as np\n",
        "\n",
        "feeds_df = pd.read_csv(\"feeds.tsv\", sep='\\t', header=0,encoding=\"utf-8\")\n",
        "feeds_df.drop(columns=['text'], inplace=True)\n",
        "feeds_df.drop(columns=['time'], inplace=True)\n",
        "feeds_df.drop(columns=['id'], inplace=True)\n",
        "feeds_df.drop(columns=['Unnamed: 5'], inplace=True)\n",
        "feeds_df.drop(columns=['Unnamed: 6'], inplace=True)"
      ],
      "execution_count": 11,
      "outputs": []
    },
    {
      "cell_type": "code",
      "metadata": {
        "colab": {
          "base_uri": "https://localhost:8080/",
          "height": 206
        },
        "id": "RX9LXcMQiUFA",
        "outputId": "2c40edf8-5867-4591-9cc8-05571d22e04c"
      },
      "source": [
        "feeds_df.head(5)"
      ],
      "execution_count": 12,
      "outputs": [
        {
          "output_type": "execute_result",
          "data": {
            "text/plain": [
              "                                               title  \\\n",
              "0  'Corona-Krise in Deutschland: Wie kommen wir w...   \n",
              "1  'Leopoldina-Forscher legen konkreten Fahrplan ...   \n",
              "2  'Philosophie Coronavirus-Lockdown: Wir müssen ...   \n",
              "3  'Coronavirus in Indonesien: Gefährliche Heimre...   \n",
              "4  'Coronavirus News am Montag: Die wichtigsten E...   \n",
              "\n",
              "                                                link  \n",
              "0  'https://www.spiegel.de/politik/deutschland/co...  \n",
              "1  'https://www.spiegel.de/wissenschaft/leopoldin...  \n",
              "2  'https://www.spiegel.de/wissenschaft/philosoph...  \n",
              "3  'https://www.spiegel.de/politik/ausland/corona...  \n",
              "4  'https://www.spiegel.de/wissenschaft/medizin/c...  "
            ],
            "text/html": [
              "\n",
              "  <div id=\"df-ae6952a8-303d-4c4c-818e-22eddb1ea1ef\">\n",
              "    <div class=\"colab-df-container\">\n",
              "      <div>\n",
              "<style scoped>\n",
              "    .dataframe tbody tr th:only-of-type {\n",
              "        vertical-align: middle;\n",
              "    }\n",
              "\n",
              "    .dataframe tbody tr th {\n",
              "        vertical-align: top;\n",
              "    }\n",
              "\n",
              "    .dataframe thead th {\n",
              "        text-align: right;\n",
              "    }\n",
              "</style>\n",
              "<table border=\"1\" class=\"dataframe\">\n",
              "  <thead>\n",
              "    <tr style=\"text-align: right;\">\n",
              "      <th></th>\n",
              "      <th>title</th>\n",
              "      <th>link</th>\n",
              "    </tr>\n",
              "  </thead>\n",
              "  <tbody>\n",
              "    <tr>\n",
              "      <th>0</th>\n",
              "      <td>'Corona-Krise in Deutschland: Wie kommen wir w...</td>\n",
              "      <td>'https://www.spiegel.de/politik/deutschland/co...</td>\n",
              "    </tr>\n",
              "    <tr>\n",
              "      <th>1</th>\n",
              "      <td>'Leopoldina-Forscher legen konkreten Fahrplan ...</td>\n",
              "      <td>'https://www.spiegel.de/wissenschaft/leopoldin...</td>\n",
              "    </tr>\n",
              "    <tr>\n",
              "      <th>2</th>\n",
              "      <td>'Philosophie Coronavirus-Lockdown: Wir müssen ...</td>\n",
              "      <td>'https://www.spiegel.de/wissenschaft/philosoph...</td>\n",
              "    </tr>\n",
              "    <tr>\n",
              "      <th>3</th>\n",
              "      <td>'Coronavirus in Indonesien: Gefährliche Heimre...</td>\n",
              "      <td>'https://www.spiegel.de/politik/ausland/corona...</td>\n",
              "    </tr>\n",
              "    <tr>\n",
              "      <th>4</th>\n",
              "      <td>'Coronavirus News am Montag: Die wichtigsten E...</td>\n",
              "      <td>'https://www.spiegel.de/wissenschaft/medizin/c...</td>\n",
              "    </tr>\n",
              "  </tbody>\n",
              "</table>\n",
              "</div>\n",
              "      <button class=\"colab-df-convert\" onclick=\"convertToInteractive('df-ae6952a8-303d-4c4c-818e-22eddb1ea1ef')\"\n",
              "              title=\"Convert this dataframe to an interactive table.\"\n",
              "              style=\"display:none;\">\n",
              "        \n",
              "  <svg xmlns=\"http://www.w3.org/2000/svg\" height=\"24px\"viewBox=\"0 0 24 24\"\n",
              "       width=\"24px\">\n",
              "    <path d=\"M0 0h24v24H0V0z\" fill=\"none\"/>\n",
              "    <path d=\"M18.56 5.44l.94 2.06.94-2.06 2.06-.94-2.06-.94-.94-2.06-.94 2.06-2.06.94zm-11 1L8.5 8.5l.94-2.06 2.06-.94-2.06-.94L8.5 2.5l-.94 2.06-2.06.94zm10 10l.94 2.06.94-2.06 2.06-.94-2.06-.94-.94-2.06-.94 2.06-2.06.94z\"/><path d=\"M17.41 7.96l-1.37-1.37c-.4-.4-.92-.59-1.43-.59-.52 0-1.04.2-1.43.59L10.3 9.45l-7.72 7.72c-.78.78-.78 2.05 0 2.83L4 21.41c.39.39.9.59 1.41.59.51 0 1.02-.2 1.41-.59l7.78-7.78 2.81-2.81c.8-.78.8-2.07 0-2.86zM5.41 20L4 18.59l7.72-7.72 1.47 1.35L5.41 20z\"/>\n",
              "  </svg>\n",
              "      </button>\n",
              "      \n",
              "  <style>\n",
              "    .colab-df-container {\n",
              "      display:flex;\n",
              "      flex-wrap:wrap;\n",
              "      gap: 12px;\n",
              "    }\n",
              "\n",
              "    .colab-df-convert {\n",
              "      background-color: #E8F0FE;\n",
              "      border: none;\n",
              "      border-radius: 50%;\n",
              "      cursor: pointer;\n",
              "      display: none;\n",
              "      fill: #1967D2;\n",
              "      height: 32px;\n",
              "      padding: 0 0 0 0;\n",
              "      width: 32px;\n",
              "    }\n",
              "\n",
              "    .colab-df-convert:hover {\n",
              "      background-color: #E2EBFA;\n",
              "      box-shadow: 0px 1px 2px rgba(60, 64, 67, 0.3), 0px 1px 3px 1px rgba(60, 64, 67, 0.15);\n",
              "      fill: #174EA6;\n",
              "    }\n",
              "\n",
              "    [theme=dark] .colab-df-convert {\n",
              "      background-color: #3B4455;\n",
              "      fill: #D2E3FC;\n",
              "    }\n",
              "\n",
              "    [theme=dark] .colab-df-convert:hover {\n",
              "      background-color: #434B5C;\n",
              "      box-shadow: 0px 1px 3px 1px rgba(0, 0, 0, 0.15);\n",
              "      filter: drop-shadow(0px 1px 2px rgba(0, 0, 0, 0.3));\n",
              "      fill: #FFFFFF;\n",
              "    }\n",
              "  </style>\n",
              "\n",
              "      <script>\n",
              "        const buttonEl =\n",
              "          document.querySelector('#df-ae6952a8-303d-4c4c-818e-22eddb1ea1ef button.colab-df-convert');\n",
              "        buttonEl.style.display =\n",
              "          google.colab.kernel.accessAllowed ? 'block' : 'none';\n",
              "\n",
              "        async function convertToInteractive(key) {\n",
              "          const element = document.querySelector('#df-ae6952a8-303d-4c4c-818e-22eddb1ea1ef');\n",
              "          const dataTable =\n",
              "            await google.colab.kernel.invokeFunction('convertToInteractive',\n",
              "                                                     [key], {});\n",
              "          if (!dataTable) return;\n",
              "\n",
              "          const docLinkHtml = 'Like what you see? Visit the ' +\n",
              "            '<a target=\"_blank\" href=https://colab.research.google.com/notebooks/data_table.ipynb>data table notebook</a>'\n",
              "            + ' to learn more about interactive tables.';\n",
              "          element.innerHTML = '';\n",
              "          dataTable['output_type'] = 'display_data';\n",
              "          await google.colab.output.renderOutput(dataTable, element);\n",
              "          const docLink = document.createElement('div');\n",
              "          docLink.innerHTML = docLinkHtml;\n",
              "          element.appendChild(docLink);\n",
              "        }\n",
              "      </script>\n",
              "    </div>\n",
              "  </div>\n",
              "  "
            ]
          },
          "metadata": {},
          "execution_count": 12
        }
      ]
    },
    {
      "cell_type": "code",
      "metadata": {
        "colab": {
          "base_uri": "https://localhost:8080/",
          "height": 363
        },
        "id": "Yw8MGXU-i_h_",
        "outputId": "6537d244-962b-495d-895c-1f8bc1516f48"
      },
      "source": [
        "# We want to remove the qoutes here in order to get better results.\n",
        "\n",
        "def remove_quotes(text):\n",
        "    return text[1:-1]\n",
        "\n",
        "feeds_df[\"title\"]=feeds_df[\"title\"].map(remove_quotes)\n",
        "feeds_df[\"link\"]=feeds_df[\"link\"].map(remove_quotes)\n",
        "feeds_df.head(10)"
      ],
      "execution_count": 13,
      "outputs": [
        {
          "output_type": "execute_result",
          "data": {
            "text/plain": [
              "                                               title  \\\n",
              "0  Corona-Krise in Deutschland: Wie kommen wir wi...   \n",
              "1  Leopoldina-Forscher legen konkreten Fahrplan f...   \n",
              "2  Philosophie Coronavirus-Lockdown: Wir müssen ü...   \n",
              "3   Coronavirus in Indonesien: Gefährliche Heimreise   \n",
              "4  Coronavirus News am Montag: Die wichtigsten En...   \n",
              "5  Corona-Lockdown: Deutsche sind immer mehr unte...   \n",
              "6  Corona-Krise: Warum Vorhersagen zu Wirtschaft ...   \n",
              "7  Corona-Alltags-Heldin: Susanne Rudwill, 56, Ka...   \n",
              "8  Corona: Politik darf keine Erwartungen wecken,...   \n",
              "9  Trigema-Chef Grupp kämpft gegen die Corona-Kri...   \n",
              "\n",
              "                                                link  \n",
              "0  https://www.spiegel.de/politik/deutschland/cor...  \n",
              "1  https://www.spiegel.de/wissenschaft/leopoldina...  \n",
              "2  https://www.spiegel.de/wissenschaft/philosophi...  \n",
              "3  https://www.spiegel.de/politik/ausland/coronav...  \n",
              "4  https://www.spiegel.de/wissenschaft/medizin/co...  \n",
              "5  https://www.spiegel.de/panorama/corona-lockdow...  \n",
              "6  https://www.spiegel.de/wirtschaft/corona-krise...  \n",
              "7  https://www.spiegel.de/panorama/gesellschaft/c...  \n",
              "8  https://www.spiegel.de/politik/deutschland/cor...  \n",
              "9  https://www.spiegel.de/wirtschaft/unternehmen/...  "
            ],
            "text/html": [
              "\n",
              "  <div id=\"df-0bb00648-2c17-49b0-b316-fe6a490b48e4\">\n",
              "    <div class=\"colab-df-container\">\n",
              "      <div>\n",
              "<style scoped>\n",
              "    .dataframe tbody tr th:only-of-type {\n",
              "        vertical-align: middle;\n",
              "    }\n",
              "\n",
              "    .dataframe tbody tr th {\n",
              "        vertical-align: top;\n",
              "    }\n",
              "\n",
              "    .dataframe thead th {\n",
              "        text-align: right;\n",
              "    }\n",
              "</style>\n",
              "<table border=\"1\" class=\"dataframe\">\n",
              "  <thead>\n",
              "    <tr style=\"text-align: right;\">\n",
              "      <th></th>\n",
              "      <th>title</th>\n",
              "      <th>link</th>\n",
              "    </tr>\n",
              "  </thead>\n",
              "  <tbody>\n",
              "    <tr>\n",
              "      <th>0</th>\n",
              "      <td>Corona-Krise in Deutschland: Wie kommen wir wi...</td>\n",
              "      <td>https://www.spiegel.de/politik/deutschland/cor...</td>\n",
              "    </tr>\n",
              "    <tr>\n",
              "      <th>1</th>\n",
              "      <td>Leopoldina-Forscher legen konkreten Fahrplan f...</td>\n",
              "      <td>https://www.spiegel.de/wissenschaft/leopoldina...</td>\n",
              "    </tr>\n",
              "    <tr>\n",
              "      <th>2</th>\n",
              "      <td>Philosophie Coronavirus-Lockdown: Wir müssen ü...</td>\n",
              "      <td>https://www.spiegel.de/wissenschaft/philosophi...</td>\n",
              "    </tr>\n",
              "    <tr>\n",
              "      <th>3</th>\n",
              "      <td>Coronavirus in Indonesien: Gefährliche Heimreise</td>\n",
              "      <td>https://www.spiegel.de/politik/ausland/coronav...</td>\n",
              "    </tr>\n",
              "    <tr>\n",
              "      <th>4</th>\n",
              "      <td>Coronavirus News am Montag: Die wichtigsten En...</td>\n",
              "      <td>https://www.spiegel.de/wissenschaft/medizin/co...</td>\n",
              "    </tr>\n",
              "    <tr>\n",
              "      <th>5</th>\n",
              "      <td>Corona-Lockdown: Deutsche sind immer mehr unte...</td>\n",
              "      <td>https://www.spiegel.de/panorama/corona-lockdow...</td>\n",
              "    </tr>\n",
              "    <tr>\n",
              "      <th>6</th>\n",
              "      <td>Corona-Krise: Warum Vorhersagen zu Wirtschaft ...</td>\n",
              "      <td>https://www.spiegel.de/wirtschaft/corona-krise...</td>\n",
              "    </tr>\n",
              "    <tr>\n",
              "      <th>7</th>\n",
              "      <td>Corona-Alltags-Heldin: Susanne Rudwill, 56, Ka...</td>\n",
              "      <td>https://www.spiegel.de/panorama/gesellschaft/c...</td>\n",
              "    </tr>\n",
              "    <tr>\n",
              "      <th>8</th>\n",
              "      <td>Corona: Politik darf keine Erwartungen wecken,...</td>\n",
              "      <td>https://www.spiegel.de/politik/deutschland/cor...</td>\n",
              "    </tr>\n",
              "    <tr>\n",
              "      <th>9</th>\n",
              "      <td>Trigema-Chef Grupp kämpft gegen die Corona-Kri...</td>\n",
              "      <td>https://www.spiegel.de/wirtschaft/unternehmen/...</td>\n",
              "    </tr>\n",
              "  </tbody>\n",
              "</table>\n",
              "</div>\n",
              "      <button class=\"colab-df-convert\" onclick=\"convertToInteractive('df-0bb00648-2c17-49b0-b316-fe6a490b48e4')\"\n",
              "              title=\"Convert this dataframe to an interactive table.\"\n",
              "              style=\"display:none;\">\n",
              "        \n",
              "  <svg xmlns=\"http://www.w3.org/2000/svg\" height=\"24px\"viewBox=\"0 0 24 24\"\n",
              "       width=\"24px\">\n",
              "    <path d=\"M0 0h24v24H0V0z\" fill=\"none\"/>\n",
              "    <path d=\"M18.56 5.44l.94 2.06.94-2.06 2.06-.94-2.06-.94-.94-2.06-.94 2.06-2.06.94zm-11 1L8.5 8.5l.94-2.06 2.06-.94-2.06-.94L8.5 2.5l-.94 2.06-2.06.94zm10 10l.94 2.06.94-2.06 2.06-.94-2.06-.94-.94-2.06-.94 2.06-2.06.94z\"/><path d=\"M17.41 7.96l-1.37-1.37c-.4-.4-.92-.59-1.43-.59-.52 0-1.04.2-1.43.59L10.3 9.45l-7.72 7.72c-.78.78-.78 2.05 0 2.83L4 21.41c.39.39.9.59 1.41.59.51 0 1.02-.2 1.41-.59l7.78-7.78 2.81-2.81c.8-.78.8-2.07 0-2.86zM5.41 20L4 18.59l7.72-7.72 1.47 1.35L5.41 20z\"/>\n",
              "  </svg>\n",
              "      </button>\n",
              "      \n",
              "  <style>\n",
              "    .colab-df-container {\n",
              "      display:flex;\n",
              "      flex-wrap:wrap;\n",
              "      gap: 12px;\n",
              "    }\n",
              "\n",
              "    .colab-df-convert {\n",
              "      background-color: #E8F0FE;\n",
              "      border: none;\n",
              "      border-radius: 50%;\n",
              "      cursor: pointer;\n",
              "      display: none;\n",
              "      fill: #1967D2;\n",
              "      height: 32px;\n",
              "      padding: 0 0 0 0;\n",
              "      width: 32px;\n",
              "    }\n",
              "\n",
              "    .colab-df-convert:hover {\n",
              "      background-color: #E2EBFA;\n",
              "      box-shadow: 0px 1px 2px rgba(60, 64, 67, 0.3), 0px 1px 3px 1px rgba(60, 64, 67, 0.15);\n",
              "      fill: #174EA6;\n",
              "    }\n",
              "\n",
              "    [theme=dark] .colab-df-convert {\n",
              "      background-color: #3B4455;\n",
              "      fill: #D2E3FC;\n",
              "    }\n",
              "\n",
              "    [theme=dark] .colab-df-convert:hover {\n",
              "      background-color: #434B5C;\n",
              "      box-shadow: 0px 1px 3px 1px rgba(0, 0, 0, 0.15);\n",
              "      filter: drop-shadow(0px 1px 2px rgba(0, 0, 0, 0.3));\n",
              "      fill: #FFFFFF;\n",
              "    }\n",
              "  </style>\n",
              "\n",
              "      <script>\n",
              "        const buttonEl =\n",
              "          document.querySelector('#df-0bb00648-2c17-49b0-b316-fe6a490b48e4 button.colab-df-convert');\n",
              "        buttonEl.style.display =\n",
              "          google.colab.kernel.accessAllowed ? 'block' : 'none';\n",
              "\n",
              "        async function convertToInteractive(key) {\n",
              "          const element = document.querySelector('#df-0bb00648-2c17-49b0-b316-fe6a490b48e4');\n",
              "          const dataTable =\n",
              "            await google.colab.kernel.invokeFunction('convertToInteractive',\n",
              "                                                     [key], {});\n",
              "          if (!dataTable) return;\n",
              "\n",
              "          const docLinkHtml = 'Like what you see? Visit the ' +\n",
              "            '<a target=\"_blank\" href=https://colab.research.google.com/notebooks/data_table.ipynb>data table notebook</a>'\n",
              "            + ' to learn more about interactive tables.';\n",
              "          element.innerHTML = '';\n",
              "          dataTable['output_type'] = 'display_data';\n",
              "          await google.colab.output.renderOutput(dataTable, element);\n",
              "          const docLink = document.createElement('div');\n",
              "          docLink.innerHTML = docLinkHtml;\n",
              "          element.appendChild(docLink);\n",
              "        }\n",
              "      </script>\n",
              "    </div>\n",
              "  </div>\n",
              "  "
            ]
          },
          "metadata": {},
          "execution_count": 13
        }
      ]
    },
    {
      "cell_type": "code",
      "metadata": {
        "colab": {
          "base_uri": "https://localhost:8080/"
        },
        "id": "s-MJZ01VjdCq",
        "outputId": "36651cd3-5015-46de-9bfb-57b1ba194e63"
      },
      "source": [
        "# Number of entries in our data set\n",
        "len(feeds_df)"
      ],
      "execution_count": 14,
      "outputs": [
        {
          "output_type": "execute_result",
          "data": {
            "text/plain": [
              "21257"
            ]
          },
          "metadata": {},
          "execution_count": 14
        }
      ]
    },
    {
      "cell_type": "markdown",
      "metadata": {
        "id": "jXaIkRzjCkz3"
      },
      "source": [
        "## Processing the data"
      ]
    },
    {
      "cell_type": "code",
      "metadata": {
        "id": "rLMbe1CIjvLO"
      },
      "source": [
        "# since 21257 entries would take a lot of time to process, we just load\n",
        "# the first 3000 articles here. But you are welcome to experiment with this \n",
        "# parameter. \n",
        "\n",
        "titles = list(feeds_df[\"title\"][:3000])\n",
        "links = list(feeds_df[\"link\"][:3000])"
      ],
      "execution_count": 15,
      "outputs": []
    },
    {
      "cell_type": "code",
      "metadata": {
        "id": "HSX8L2meCut5"
      },
      "source": [
        "import torch\n",
        "model.to(\"cuda\")\n",
        "tokens = tokenizer(titles, return_tensors=\"pt\",truncation=True,padding=True)\n",
        "tokens.to(\"cuda\")\n",
        "with torch.no_grad():\n",
        "    headline_vectors = model(**tokens)\n",
        "headline_embeddings = mean_pooling(headline_vectors, tokens['attention_mask'])\n"
      ],
      "execution_count": 43,
      "outputs": []
    },
    {
      "cell_type": "code",
      "metadata": {
        "colab": {
          "base_uri": "https://localhost:8080/",
          "height": 171
        },
        "id": "m5nB8MTnDE-I",
        "outputId": "0b1385bd-d93c-4e55-c43f-de0f6aa6b495"
      },
      "source": [
        ""
      ],
      "execution_count": 38,
      "outputs": [
        {
          "output_type": "error",
          "ename": "AttributeError",
          "evalue": "ignored",
          "traceback": [
            "\u001b[0;31m---------------------------------------------------------------------------\u001b[0m",
            "\u001b[0;31mAttributeError\u001b[0m                            Traceback (most recent call last)",
            "\u001b[0;32m<ipython-input-38-7de6cd103b5d>\u001b[0m in \u001b[0;36m<module>\u001b[0;34m()\u001b[0m\n\u001b[0;32m----> 1\u001b[0;31m \u001b[0mheadline_vectors\u001b[0m\u001b[0;34m.\u001b[0m\u001b[0mshape\u001b[0m\u001b[0;34m\u001b[0m\u001b[0;34m\u001b[0m\u001b[0m\n\u001b[0m",
            "\u001b[0;31mAttributeError\u001b[0m: 'BaseModelOutputWithPoolingAndCrossAttentions' object has no attribute 'shape'"
          ]
        }
      ]
    },
    {
      "cell_type": "code",
      "metadata": {
        "id": "0c0TROpkMJzP"
      },
      "source": [
        "tokens = tokenizer(\"Klima\", return_tensors=\"pt\",truncation=True, padding=True)\n",
        "tokens.to(\"cuda\")\n",
        "with torch.no_grad():\n",
        "  query_vector = model(**tokens)\n",
        "query_embeddings = mean_pooling(query_vector, tokens['attention_mask'])\n"
      ],
      "execution_count": 44,
      "outputs": []
    },
    {
      "cell_type": "code",
      "metadata": {
        "colab": {
          "base_uri": "https://localhost:8080/"
        },
        "id": "bGn_co3AM4kZ",
        "outputId": "2b40b9f7-8429-43a1-94ee-f2d3efbd80ab"
      },
      "source": [
        "# calculate the dot product\n",
        "result = torch.sum(query_embeddings * headline_embeddings,axis=1) \n",
        "result.shape"
      ],
      "execution_count": 45,
      "outputs": [
        {
          "output_type": "execute_result",
          "data": {
            "text/plain": [
              "torch.Size([3000])"
            ]
          },
          "metadata": {},
          "execution_count": 45
        }
      ]
    },
    {
      "cell_type": "code",
      "metadata": {
        "colab": {
          "base_uri": "https://localhost:8080/"
        },
        "id": "cLMmM9A-EIcM",
        "outputId": "bc52b534-c3c0-4283-d9d7-b1592b0e5d95"
      },
      "source": [
        "result"
      ],
      "execution_count": 46,
      "outputs": [
        {
          "output_type": "execute_result",
          "data": {
            "text/plain": [
              "tensor([8.5284, 3.2245, 5.7746,  ..., 1.7417, 2.5137, 3.3640], device='cuda:0')"
            ]
          },
          "metadata": {},
          "execution_count": 46
        }
      ]
    },
    {
      "cell_type": "markdown",
      "metadata": {
        "id": "ejzb2ld3ENo6"
      },
      "source": [
        "## Ranking the results"
      ]
    },
    {
      "cell_type": "code",
      "metadata": {
        "colab": {
          "base_uri": "https://localhost:8080/"
        },
        "id": "aSmVaBXVN_RD",
        "outputId": "1f81a4b5-0a3b-47a5-8f46-87bc7fbf46e8"
      },
      "source": [
        "topk = 20\n",
        "values, indices = torch.topk(result, topk,largest=True)\n",
        "print(values,indices)"
      ],
      "execution_count": 47,
      "outputs": [
        {
          "output_type": "stream",
          "name": "stdout",
          "text": [
            "tensor([16.7430, 16.4768, 16.3090, 15.4628, 14.8662, 14.4715, 14.2645, 14.1040,\n",
            "        13.7637, 13.5963, 13.4705, 13.3970, 13.2582, 13.1259, 12.7523, 11.8828,\n",
            "        11.7547, 11.6815, 11.6120, 11.4196], device='cuda:0') tensor([2483, 2780, 2298,  737, 1558,  365, 2700, 2666,  157, 1514, 2743,  304,\n",
            "        2871, 1977, 2217, 2902, 1526, 2679, 1492, 2680], device='cuda:0')\n"
          ]
        }
      ]
    },
    {
      "cell_type": "code",
      "metadata": {
        "colab": {
          "base_uri": "https://localhost:8080/"
        },
        "id": "4JeVfM7BNYtb",
        "outputId": "d7d21f49-f607-48e3-b859-f4a57380698b"
      },
      "source": [
        "for i in range(0,topk):\n",
        "  index = indices[i].item()\n",
        "  value = int(values[i].item())\n",
        "  print(value,titles[index],links[index])\n"
      ],
      "execution_count": 48,
      "outputs": [
        {
          "output_type": "stream",
          "name": "stdout",
          "text": [
            "16 Klimaschutz: Und was ist mit dem Klima? https://www.zeit.de/2020/17/klimaschutz-corona-krise-oekologie-wirtschaftswachstu\n",
            "16 Meteorologie: Wie das trockene Frühjahr die Natur belastet https://www.sueddeutsche.de/wissen/trockenheit-wetter-klima-regen-april-1.488363\n",
            "16 Klimawandel in der Arktis: Das Eis am Nordpol ist nicht mehr zu retten https://www.spiegel.de/wissenschaft/natur/klimawandel-in-der-arktis-das-eis-am-nordpol-ist-nicht-mehr-zu-retten-a-d923c467-e6ff-4e94-92c1-03fe20c20d1b#ref=rs\n",
            "15 Corona-Krise: Was macht eigentlich der Klimaschutz? https://www.spiegel.de/politik/deutschland/corona-krise-was-macht-eigentlich-der-klimaschutz-a-00000000-0002-0001-0000-000170435621#ref=rs\n",
            "14 Corona-Krise: Update: Jetzt fürs Klima demonstrieren? https://www.zeit.de/politik/2020-04/corona-krise-demonstrationen-klimaschutz-infektionsschut\n",
            "14 Die Grünen in der Corona-Krise: Niemand redet mehr über das Klima https://www.zeit.de/politik/deutschland/2020-04/gruene-corona-krise-klimawandel-emissionsabba\n",
            "14 Energiewende: Initiative fordert ein Konjunkturpaket für das Klima https://www.handelsblatt.com/unternehmen/energie/energiewende-initiative-fordert-ein-konjunkturpaket-fuer-das-klima/25759848.htm\n",
            "14 Klima: Deutschland steuert auf die nächste Dürre zu https://www.spiegel.de/wissenschaft/natur/klima-deutschland-steuert-auf-die-naechste-duerre-zu-a-7010c682-ed0d-4634-816c-af3dd7e44783#ref=rs\n",
            "13 Vanuatu im Südpazifik: Zu weit weg für die Klimapolitik https://www.spiegel.de/panorama/gesellschaft/vanuatu-im-suedpazifik-zu-weit-weg-fuer-die-klimapolitik-a-3f37f2e5-2314-4eea-a121-b07283b1c3cc#ref=rs\n",
            "13 \"Leben mit Corona\"-Umfrage: Junge fürchten Klimawandel mehr als Corona https://www.spiegel.de/wirtschaft/leben-mit-corona-umfrage-junge-fuerchten-klimawandel-mehr-als-corona-a-21f6a7f4-8f7e-479f-8c0a-d0c547c3e4ed#ref=rs\n",
            "13 Dürre: Waldbrandgefahr teils schon auf höchster Stufe https://www.zeit.de/wissen/umwelt/2020-04/duerre-trockenheit-niederschlag-vegetatio\n",
            "13 Anhaltende Frühjahrstrockenheit: Droht die nächste Dürre? https://www.faz.net/aktuell/wissen/erde-klima/fruehjahrstrockenheit-droht-uns-schon-wieder-eine-duerre-16721155.htm\n",
            "13 Vermögensverwalter : Klimaschutz bleibt ein Top-Thema https://www.handelsblatt.com/finanzen/anlagestrategie/vermoegensverwalter-klimaschutz-bleibt-ein-top-thema-/25756998.htm\n",
            "13 Biologe im Gespräch: „Der Klimawandel ist gefährlicher als Corona“ https://www.faz.net/aktuell/wirtschaft/klima-energie-und-umwelt/volker-mosbrugger-klimawandel-gefaehrlicher-als-corona-16731564.htm\n",
            "12 Droht der nächste Dürresommer? https://www.faz.net/aktuell/wirtschaft/klima-energie-und-umwelt/landwirtschaft-deutschland-droht-schon-der-naechste-duerresommer-16732096.htm\n",
            "11 Klimawandel: Landwirte fürchten drittes Dürrejahr in Folge https://www.zeit.de/wissen/umwelt/2020-04/klimawandel-duerre-deutschland-landwirte-trockenhei\n",
            "11 Wetter am Wochenende: Kühl im Norden, sommerlich im Süden https://www.spiegel.de/panorama/gesellschaft/wetter-am-wochenende-kuehl-im-norden-sommerlich-im-sueden-a-d117fbde-d7c7-479e-99bb-1534210276bb#ref=rs\n",
            "11 UN-Umfrage: Menschen sorgen sich vor allem um Klima, Kriege und Gesundheit https://www.zeit.de/politik/2020-04/un-umfrage-top-themen-zukunft-klima-konflikte-gesundhei\n",
            "11 Corona in Italien: Sommer, Sonne und Plexiglas https://www.sueddeutsche.de/panorama/corona-coronavirus-itlaien-sommerurlaub-strand-rimini-1.487990\n",
            "11 Nordpol im Sommer bald ohne Eis https://www.faz.net/aktuell/wissen/erde-klima/studie-zum-klimawandel-nordpol-im-sommer-bald-ohne-eis-16735193.htm\n"
          ]
        }
      ]
    },
    {
      "cell_type": "markdown",
      "metadata": {
        "id": "3CVJb7KDE4lj"
      },
      "source": [
        "## Let's take a look at the vector space\n",
        "Download the two files and upload them into [Tensorflow Projector](https://projector.tensorflow.org/)."
      ]
    },
    {
      "cell_type": "code",
      "metadata": {
        "id": "WXFl-ZhrXPyD"
      },
      "source": [
        "# export to tf projector\n",
        "x_np = headline_vectors.cpu().numpy()\n",
        "x_df = pd.DataFrame(x_np)\n",
        "x_df.to_csv('vectors.tsv',sep=\"\\t\",index=False, header=None,encoding=\"utf-8\")\n",
        "\n",
        "with open('titles.tsv', 'w') as writer:\n",
        "  for title in titles:\n",
        "    writer.write(title[:150]+\"...\\n\")\n"
      ],
      "execution_count": 23,
      "outputs": []
    },
    {
      "cell_type": "markdown",
      "metadata": {
        "id": "gPbfr3P2FKdH"
      },
      "source": [
        "# Your tasks\n",
        "\n",
        "Try to improve the search results. Here are some ideas:\n",
        "\n",
        "* try out sentence transformers like this one: [Language-agnostic BERT Sentence Embedding](https://arxiv.org/abs/2007.01852)\n",
        "* try to adapt the sample code from [sentence transformers project.](https://huggingface.co/sentence-transformers/paraphrase-multilingual-MiniLM-L12-v2)\n",
        "\n",
        "Check your results with the embedding projector and compare them. What do you see?\n",
        "\n",
        "\n",
        "Bonus:\n",
        "\n",
        "* try a clustering like k-nearest neighbors to group news artikels\n"
      ]
    },
    {
      "cell_type": "code",
      "source": [
        ""
      ],
      "metadata": {
        "id": "dr8RLHxKl2BY"
      },
      "execution_count": null,
      "outputs": []
    }
  ]
}